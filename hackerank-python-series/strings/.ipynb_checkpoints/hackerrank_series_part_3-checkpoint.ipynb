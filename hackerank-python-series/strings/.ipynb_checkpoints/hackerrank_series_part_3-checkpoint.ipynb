{
 "cells": [
  {
   "cell_type": "markdown",
   "metadata": {},
   "source": [
    "# Strings"
   ]
  },
  {
   "cell_type": "markdown",
   "metadata": {},
   "source": [
    "## Swap Case"
   ]
  },
  {
   "cell_type": "code",
   "execution_count": 3,
   "metadata": {},
   "outputs": [
    {
     "name": "stdout",
     "output_type": "stream",
     "text": [
      "hello\n",
      "HELLO\n"
     ]
    }
   ],
   "source": [
    "def swap_case(s):\n",
    "    return s.swapcase()\n",
    "\n",
    "if __name__ == '__main__':\n",
    "    s = input()\n",
    "    result = swap_case(s)\n",
    "    print(result)"
   ]
  },
  {
   "cell_type": "markdown",
   "metadata": {},
   "source": [
    "## String Split and Join"
   ]
  },
  {
   "cell_type": "code",
   "execution_count": 4,
   "metadata": {},
   "outputs": [
    {
     "name": "stdout",
     "output_type": "stream",
     "text": [
      "hello world\n",
      "hello-world\n"
     ]
    }
   ],
   "source": [
    "def split_and_join(line):\n",
    "    # write your code here\n",
    "    return \"-\".join(line.split())\n",
    "\n",
    "if __name__ == '__main__':\n",
    "    line = input()\n",
    "    result = split_and_join(line)\n",
    "    print(result)"
   ]
  },
  {
   "cell_type": "markdown",
   "metadata": {},
   "source": [
    "## What's Your Name"
   ]
  },
  {
   "cell_type": "code",
   "execution_count": 5,
   "metadata": {},
   "outputs": [
    {
     "name": "stdout",
     "output_type": "stream",
     "text": [
      "hello world\n",
      "hello world\n",
      "Hello hello world hello world! You just delved into python.\n"
     ]
    }
   ],
   "source": [
    "def print_full_name(a, b):\n",
    "    print(\"Hello {0} {1}! You just delved into python.\".format(a,b))\n",
    "\n",
    "if __name__ == '__main__':\n",
    "    first_name = input()\n",
    "    last_name = input()\n",
    "    print_full_name(first_name, last_name)"
   ]
  },
  {
   "cell_type": "markdown",
   "metadata": {},
   "source": [
    "## Mutations"
   ]
  },
  {
   "cell_type": "code",
   "execution_count": null,
   "metadata": {},
   "outputs": [],
   "source": [
    "def mutate_string(string, position, character):\n",
    "    return string[:position] + str(character) + string[position+1:]\n",
    "\n",
    "if __name__ == '__main__':\n",
    "    s = input()\n",
    "    i, c = input().split()\n",
    "    s_new = mutate_string(s, int(i), c)\n",
    "    print(s_new)"
   ]
  },
  {
   "cell_type": "markdown",
   "metadata": {},
   "source": [
    "## Find a string"
   ]
  },
  {
   "cell_type": "code",
   "execution_count": 8,
   "metadata": {},
   "outputs": [
    {
     "name": "stdout",
     "output_type": "stream",
     "text": [
      "HELLOWORLD\n",
      "L\n",
      "3\n"
     ]
    }
   ],
   "source": [
    "def count_substring(string, sub_string):\n",
    "    found = 0\n",
    "    for each in range(len(string)):\n",
    "        if sub_string == string[each:each+len(sub_string)]:\n",
    "            found += 1\n",
    "    return found\n",
    "#     Approach-2 \n",
    "#     return sum([sub_string == string[each:each+len(sub_string)] for each in range(len(string))])\n",
    "\n",
    "\n",
    "if __name__ == '__main__':\n",
    "    string = input().strip()\n",
    "    sub_string = input().strip()\n",
    "    \n",
    "    count = count_substring(string, sub_string)\n",
    "    print(count)"
   ]
  },
  {
   "cell_type": "markdown",
   "metadata": {},
   "source": [
    "## String Validators"
   ]
  },
  {
   "cell_type": "markdown",
   "metadata": {},
   "source": [
    "Python has built-in string validation methods for basic data. <br>\n",
    "It can check if a string is composed of alphabetical characters, alphanumeric characters, digits, etc.<br>\n",
    "<br>\n",
    "__str.isalnum() :__ This method checks if all the characters of a string are alphanumeric (a-z, A-Z and 0-9).\n",
    "<br>\n",
    "__str.isalpha() :__ This method checks if all the characters of a string are alphabetical (a-z and A-Z).\n",
    "<br>\n",
    "__str.isdigit() :__ This method checks if all the characters of a string are digits (0-9).\n",
    "<br>\n",
    "__str.islower() :__ This method checks if all the characters of a string are lowercase characters (a-z).\n",
    "<br>\n",
    "__str.isupper() :__ This method checks if all the characters of a string are uppercase characters (A-Z).\n"
   ]
  },
  {
   "cell_type": "code",
   "execution_count": 10,
   "metadata": {},
   "outputs": [
    {
     "name": "stdout",
     "output_type": "stream",
     "text": [
      "ss\n",
      "True\n",
      "True\n",
      "False\n",
      "True\n",
      "False\n"
     ]
    }
   ],
   "source": [
    "\n",
    "if __name__ == '__main__':\n",
    "    s = input()\n",
    "    print(any([each.isalnum() for each in s]))\n",
    "    print(any([each.isalpha() for each in s]))\n",
    "    print(any([each.isdigit() for each in s]))\n",
    "    print(any([each.islower() for each in s]))\n",
    "    print(any([each.isupper() for each in s]))"
   ]
  },
  {
   "cell_type": "markdown",
   "metadata": {},
   "source": [
    "## Test Alignment"
   ]
  },
  {
   "cell_type": "markdown",
   "metadata": {},
   "source": [
    "In Python, a string of text can be aligned left, right and center.<br>\n",
    "<br>\n",
    "__.ljust(width) :__ This method returns a left aligned string of length width.\n",
    "<br>\n",
    "__.center(width) :__ This method returns a centered string of length width.\n",
    "<br>\n",
    "__.rjust(width) :__ This method returns a right aligned string of length width."
   ]
  },
  {
   "cell_type": "code",
   "execution_count": 12,
   "metadata": {},
   "outputs": [
    {
     "name": "stdout",
     "output_type": "stream",
     "text": [
      "3\n",
      "  H  \n",
      " HHH \n",
      "HHHHH\n",
      " HHH         HHH        \n",
      " HHH         HHH        \n",
      " HHH         HHH        \n",
      " HHH         HHH        \n",
      " HHHHHHHHHHHHHHH  \n",
      " HHHHHHHHHHHHHHH  \n",
      " HHH         HHH        \n",
      " HHH         HHH        \n",
      " HHH         HHH        \n",
      " HHH         HHH        \n",
      "            HHHHH \n",
      "             HHH  \n",
      "              H   \n"
     ]
    }
   ],
   "source": [
    "#Replace all ______ with rjust, ljust or center. \n",
    "\n",
    "thickness = int(input()) #This must be an odd number\n",
    "c = 'H'\n",
    "\n",
    "#Top Cone\n",
    "for i in range(thickness):\n",
    "    print((c*i).rjust(thickness-1)+c+(c*i).ljust(thickness-1))\n",
    "\n",
    "#Top Pillars\n",
    "for i in range(thickness+1):\n",
    "    print((c*thickness).center(thickness*2)+(c*thickness).center(thickness*6))\n",
    "\n",
    "#Middle Belt\n",
    "for i in range((thickness+1)//2):\n",
    "    print((c*thickness*5).center(thickness*6))    \n",
    "\n",
    "#Bottom Pillars\n",
    "for i in range(thickness+1):\n",
    "    print((c*thickness).center(thickness*2)+(c*thickness).center(thickness*6))    \n",
    "\n",
    "#Bottom Cone\n",
    "for i in range(thickness):\n",
    "    print(((c*(thickness-i-1)).rjust(thickness)+c+(c*(thickness-i-1)).ljust(thickness)).rjust(thickness*6))"
   ]
  },
  {
   "cell_type": "markdown",
   "metadata": {},
   "source": [
    "## Textwrap"
   ]
  },
  {
   "cell_type": "code",
   "execution_count": 13,
   "metadata": {},
   "outputs": [
    {
     "name": "stdout",
     "output_type": "stream",
     "text": [
      "helloww\n",
      "2\n",
      "he\n",
      "ll\n",
      "ow\n",
      "w\n"
     ]
    }
   ],
   "source": [
    "import textwrap\n",
    "\n",
    "def wrap(string, max_width):\n",
    "    return \"\\n\".join(textwrap.wrap(string, max_width))\n",
    "\n",
    "if __name__ == '__main__':\n",
    "    string, max_width = input(), int(input())\n",
    "    result = wrap(string, max_width)\n",
    "    print(result)"
   ]
  },
  {
   "cell_type": "markdown",
   "metadata": {},
   "source": [
    "## Designer Door Mat"
   ]
  },
  {
   "cell_type": "code",
   "execution_count": 15,
   "metadata": {},
   "outputs": [
    {
     "name": "stdout",
     "output_type": "stream",
     "text": [
      "9 27\n",
      "------------.|.------------\n",
      "---------.|..|..|.---------\n",
      "------.|..|..|..|..|.------\n",
      "---.|..|..|..|..|..|..|.---\n",
      "----------WELCOME----------\n",
      "---.|..|..|..|..|..|..|.---\n",
      "------.|..|..|..|..|.------\n",
      "---------.|..|..|.---------\n",
      "------------.|.------------\n"
     ]
    }
   ],
   "source": [
    "# Enter your code here. Read input from STDIN. Print output to STDOUT\n",
    "\n",
    "def print_designer_doormat(n, m):\n",
    "    # Approach - 1\n",
    "    # for each in range(1,n,2):\n",
    "        # print((\".|.\"*each).center(m, \"-\"))\n",
    "    # print(\"WELCOME\".center(m, \"-\"))\n",
    "    # for each in range(n-2,0, -2):\n",
    "        # print((\".|.\"*each).center(m, \"-\"))\n",
    "    # Approach - 2\n",
    "    print(\"\\n\".join([\"WELCOME\".center(m, \"-\") if each==-1 else (\".|.\"*each).center(m, \"-\") for each in list(range(1,n,2)) + [-1] + list(range(n-2,0,-2))]))\n",
    "\n",
    "if __name__ == '__main__':\n",
    "    n, m = map(int, input().split())\n",
    "    print_designer_doormat(n, m)\n"
   ]
  },
  {
   "cell_type": "markdown",
   "metadata": {},
   "source": [
    "## String Formatting"
   ]
  },
  {
   "cell_type": "code",
   "execution_count": 23,
   "metadata": {},
   "outputs": [
    {
     "name": "stdout",
     "output_type": "stream",
     "text": [
      "17\n",
      "    1     1     1     1\n",
      "    2     2     2    10\n",
      "    3     3     3    11\n",
      "    4     4     4   100\n",
      "    5     5     5   101\n",
      "    6     6     6   110\n",
      "    7     7     7   111\n",
      "    8    10     8  1000\n",
      "    9    11     9  1001\n",
      "   10    12     A  1010\n",
      "   11    13     B  1011\n",
      "   12    14     C  1100\n",
      "   13    15     D  1101\n",
      "   14    16     E  1110\n",
      "   15    17     F  1111\n",
      "   16    20    10 10000\n",
      "   17    21    11 10001\n"
     ]
    }
   ],
   "source": [
    "def print_formatted(number):\n",
    "    # your code goes here\n",
    "    w = len(str(bin(number))[2:])\n",
    "    [print(str(each).rjust(w), (str(oct(each)[2:])).rjust(w), (str(hex(each))[2:]).upper().rjust(w), (str(bin(each))[2:]).rjust(w), sep=\" \") for each in range(1, number+1)]\n",
    "\n",
    "if __name__ == '__main__':\n",
    "    n = int(input())\n",
    "    print_formatted(n)"
   ]
  },
  {
   "cell_type": "markdown",
   "metadata": {},
   "source": [
    "## Alphabet Rangoli"
   ]
  },
  {
   "cell_type": "code",
   "execution_count": 190,
   "metadata": {
    "scrolled": true
   },
   "outputs": [
    {
     "name": "stdout",
     "output_type": "stream",
     "text": [
      "9\n",
      "----------------i----------------\n",
      "--------------i-h-i--------------\n",
      "------------i-h-g-h-i------------\n",
      "----------i-h-g-f-g-h-i----------\n",
      "--------i-h-g-f-e-f-g-h-i--------\n",
      "------i-h-g-f-e-d-e-f-g-h-i------\n",
      "----i-h-g-f-e-d-c-d-e-f-g-h-i----\n",
      "--i-h-g-f-e-d-c-b-c-d-e-f-g-h-i--\n",
      "i-h-g-f-e-d-c-b-a-b-c-d-e-f-g-h-i\n",
      "--i-h-g-f-e-d-c-b-c-d-e-f-g-h-i--\n",
      "----i-h-g-f-e-d-c-d-e-f-g-h-i----\n",
      "------i-h-g-f-e-d-e-f-g-h-i------\n",
      "--------i-h-g-f-e-f-g-h-i--------\n",
      "----------i-h-g-f-g-h-i----------\n",
      "------------i-h-g-h-i------------\n",
      "--------------i-h-i--------------\n",
      "----------------i----------------\n"
     ]
    }
   ],
   "source": [
    "# Approach - 1\n",
    "def print_rangoli(size):\n",
    "    # your code goes here\n",
    "    alphabet = size + 96\n",
    "    for i in range(alphabet,96,-1):\n",
    "        print(\"-\".join(list(map(chr,range(alphabet, i-1, -1))) + list(map(chr,range(i+1,    alphabet+1,1)))).center(4*size-3 , \"-\"))\n",
    "    for i in range(96+2,alphabet+1,1):\n",
    "        print(\"-\".join(list(map(chr,range(alphabet, i-1, -1))) + list(map(chr,range(i+1,alphabet+1,1)))).center(4*size-3, \"-\"))\n",
    "\n",
    "\n",
    "if __name__ == '__main__':\n",
    "    n = int(input())\n",
    "    print_rangoli(n)\n",
    "\n",
    "# Approach -2 (using string module)\n",
    "# import string\n",
    "\n",
    "# def print_rangoli(size):\n",
    "#     s = list(string.ascii_lowercase)\n",
    "#     lines = []\n",
    "#     for i in range(size):\n",
    "#         lines.append(\"-\".join(s[size-1:i:-1] + s[i:size]).center(4*size-3, \"-\"))\n",
    "#     print(\"\\n\".join(lines[::-1] + lines[1:]))\n",
    "\n",
    "# if __name__ == '__main__':\n",
    "#     n = int(input())\n",
    "#     print_rangoli(n)"
   ]
  },
  {
   "cell_type": "markdown",
   "metadata": {},
   "source": [
    "## Capitalize"
   ]
  },
  {
   "cell_type": "markdown",
   "metadata": {},
   "source": [
    "```python\n",
    "#!/bin/python3\n",
    "\n",
    "import math\n",
    "import os\n",
    "import random\n",
    "import re\n",
    "import sys\n",
    "\n",
    "# Complete the solve function below.\n",
    "def solve(s):\n",
    "    s = s.split(\" \")\n",
    "    return \" \".join([each[0].upper() + each[1:] if each != '' else \"\" for each in s])\n",
    "\n",
    "if __name__ == '__main__':\n",
    "    fptr = open(os.environ['OUTPUT_PATH'], 'w')\n",
    "\n",
    "    s = input()\n",
    "\n",
    "    result = solve(s)\n",
    "\n",
    "    fptr.write(result + '\\n')\n",
    "\n",
    "    fptr.close()\n",
    "```"
   ]
  },
  {
   "cell_type": "markdown",
   "metadata": {},
   "source": [
    "## The Minion Game"
   ]
  },
  {
   "cell_type": "code",
   "execution_count": 258,
   "metadata": {},
   "outputs": [
    {
     "name": "stdout",
     "output_type": "stream",
     "text": [
      "Hello\n",
      "Stuart 10\n"
     ]
    }
   ],
   "source": [
    "## Approach - 1 (Times Out)\n",
    "# def minion_game(string):\n",
    "#     # your code goes here\n",
    "#     s, k = 0, 0\n",
    "#     # your code goes here\n",
    "#     for i in range(len(string)+1):\n",
    "#         for j in range(i,len(string)+1):\n",
    "#             if i!=j:\n",
    "#                 if string[i:j].strip()[0].lower() in \"aeiou\":\n",
    "#                     k += 1\n",
    "#                 else:\n",
    "#                     s += 1 \n",
    "#     print(\"Draw\") if s == k else print(\"Stuart\", s) if s > k else print(\"Kevin\", k)\n",
    "\n",
    "# if __name__ == '__main__':\n",
    "#     s = input()\n",
    "#     minion_game(s)\n",
    "    \n",
    "\n",
    "## Approach - 2 \n",
    "def minion_game(string):\n",
    "    # your code goes here\n",
    "    s, k = 0, 0\n",
    "    for i,each in enumerate(string.lower()):\n",
    "        if each in 'aeiou':\n",
    "            k = k + len(string)-i\n",
    "        else:\n",
    "            s = s + len(string)-i\n",
    "    print(\"Draw\") if s == k else print(\"Stuart\", s) if s > k else print(\"Kevin\", k)\n",
    "\n",
    "if __name__ == '__main__':\n",
    "    s = input()\n",
    "    minion_game(s)"
   ]
  },
  {
   "cell_type": "markdown",
   "metadata": {},
   "source": [
    "## Merge the Tools!"
   ]
  },
  {
   "cell_type": "code",
   "execution_count": 303,
   "metadata": {},
   "outputs": [
    {
     "name": "stdout",
     "output_type": "stream",
     "text": [
      "AABCAAADA\n",
      "3\n",
      "AB\n",
      "CA\n",
      "AD\n"
     ]
    }
   ],
   "source": [
    "from collections import OrderedDict\n",
    "# Ordered Dict Remembers the sequence in which the keys are inserted\n",
    "\n",
    "def merge_the_tools(string, k):\n",
    "    # your code goes here\n",
    "    for each in range(len(string)//k):\n",
    "       print(\"\".join(OrderedDict.fromkeys(list(string[k*each:each*k+k])).keys()))\n",
    "\n",
    "if __name__ == '__main__':\n",
    "    string, k = input(), int(input())\n",
    "    merge_the_tools(string, k)"
   ]
  }
 ],
 "metadata": {
  "kernelspec": {
   "display_name": "Python 3",
   "language": "python",
   "name": "python3"
  },
  "language_info": {
   "codemirror_mode": {
    "name": "ipython",
    "version": 3
   },
   "file_extension": ".py",
   "mimetype": "text/x-python",
   "name": "python",
   "nbconvert_exporter": "python",
   "pygments_lexer": "ipython3",
   "version": "3.7.4"
  }
 },
 "nbformat": 4,
 "nbformat_minor": 2
}
