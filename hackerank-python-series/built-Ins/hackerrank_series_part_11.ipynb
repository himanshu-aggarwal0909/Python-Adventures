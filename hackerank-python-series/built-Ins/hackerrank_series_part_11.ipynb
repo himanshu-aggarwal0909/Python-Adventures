{
 "cells": [
  {
   "cell_type": "markdown",
   "metadata": {},
   "source": [
    "# Built-Ins"
   ]
  },
  {
   "cell_type": "markdown",
   "metadata": {},
   "source": [
    "## Zipped!"
   ]
  },
  {
   "cell_type": "code",
   "execution_count": 5,
   "metadata": {},
   "outputs": [
    {
     "name": "stdout",
     "output_type": "stream",
     "text": [
      "5 3\n",
      "89 90 78 93 80\n",
      "90 91 85 88 86\n",
      "91 92 83 89 90.5\n",
      "90.0\n",
      "91.0\n",
      "82.0\n",
      "90.0\n",
      "85.5\n"
     ]
    },
    {
     "data": {
      "text/plain": [
       "[None, None, None, None, None]"
      ]
     },
     "execution_count": 5,
     "metadata": {},
     "output_type": "execute_result"
    }
   ],
   "source": [
    "number_of_subjects, students = map(int, input().split())\n",
    "[print(\"{0:.1f}\".format(sum(each)/students)) for each in zip(*[list(map(float, input().split())) for _ in range(students)])]"
   ]
  },
  {
   "cell_type": "markdown",
   "metadata": {},
   "source": [
    "## Input()"
   ]
  },
  {
   "cell_type": "code",
   "execution_count": 6,
   "metadata": {},
   "outputs": [
    {
     "name": "stdout",
     "output_type": "stream",
     "text": [
      "1 4\n",
      "x**3 + x**2 + x + 1\n",
      "True\n"
     ]
    }
   ],
   "source": [
    "x, k = map(int, input().split())\n",
    "print(eval(input()) == k)"
   ]
  },
  {
   "cell_type": "markdown",
   "metadata": {},
   "source": [
    "## Python Evaluation\n",
    "__The eval() expression is a very powerful built-in function of Python.<br>It helps in evaluating an expression. The expression can be a Python statement, or a code object.__"
   ]
  },
  {
   "cell_type": "code",
   "execution_count": 7,
   "metadata": {},
   "outputs": [
    {
     "name": "stdout",
     "output_type": "stream",
     "text": [
      "print(2 + 3)\n",
      "5\n"
     ]
    }
   ],
   "source": [
    "eval(input())"
   ]
  },
  {
   "cell_type": "markdown",
   "metadata": {},
   "source": [
    "## Athlete Sort"
   ]
  },
  {
   "cell_type": "code",
   "execution_count": 8,
   "metadata": {},
   "outputs": [
    {
     "name": "stdout",
     "output_type": "stream",
     "text": [
      "5 3\n",
      "10 2 5\n",
      "7 1 0\n",
      "9 9 9\n",
      "1 23 12\n",
      "6 5 9\n",
      "1\n",
      "7 1 0\n",
      "10 2 5\n",
      "6 5 9\n",
      "9 9 9\n",
      "1 23 12\n"
     ]
    }
   ],
   "source": [
    "import math\n",
    "import os\n",
    "import random\n",
    "import re\n",
    "import sys\n",
    "\n",
    "\n",
    "\n",
    "if __name__ == '__main__':\n",
    "    nm = input().split()\n",
    "\n",
    "    n = int(nm[0])\n",
    "\n",
    "    m = int(nm[1])\n",
    "\n",
    "    arr = []\n",
    "\n",
    "    for _ in range(n):\n",
    "        arr.append(list(map(int, input().rstrip().split())))\n",
    "\n",
    "    k = int(input())\n",
    "    for each in sorted(arr, key=lambda x : x[k]):\n",
    "        print(\" \".join(map(str, each)))"
   ]
  },
  {
   "cell_type": "markdown",
   "metadata": {},
   "source": [
    "## Any or All\n",
    "__any() <br>\n",
    "This expression returns True if any element of the iterable is true.<br>\n",
    "If the iterable is empty, it will return False.__\n",
    "<br>\n",
    "__all()<br>\n",
    "This expression returns True if all of the elements of the iterable are true.<br>\n",
    "If the iterable is empty, it will return True.__<br>"
   ]
  },
  {
   "cell_type": "code",
   "execution_count": 45,
   "metadata": {},
   "outputs": [
    {
     "name": "stdout",
     "output_type": "stream",
     "text": [
      "5\n",
      "12 9 61 5 14\n",
      "True\n"
     ]
    }
   ],
   "source": [
    "n, num = int(input()), list(map(int, input().split()))\n",
    "print(any((str(each) == \"\".join(reversed(str(each))) for each in num)) and all((each>0 for each in num)))"
   ]
  },
  {
   "cell_type": "markdown",
   "metadata": {},
   "source": [
    "## ginortS"
   ]
  },
  {
   "cell_type": "code",
   "execution_count": 102,
   "metadata": {},
   "outputs": [
    {
     "name": "stdout",
     "output_type": "stream",
     "text": [
      "Sorting123\n",
      "ginortS132\n"
     ]
    }
   ],
   "source": [
    "def up(x):\n",
    "    if x.isdigit():\n",
    "        return ord(x)+2000 if int(x)%2 == 0 else ord(x)+1500\n",
    "    elif x.isupper():\n",
    "        return ord(x) + 1000\n",
    "    else:\n",
    "        return ord(x)\n",
    "s = input()\n",
    "print(*sorted(s, key=lambda x : up(x)), sep=\"\")"
   ]
  }
 ],
 "metadata": {
  "kernelspec": {
   "display_name": "Python 3",
   "language": "python",
   "name": "python3"
  },
  "language_info": {
   "codemirror_mode": {
    "name": "ipython",
    "version": 3
   },
   "file_extension": ".py",
   "mimetype": "text/x-python",
   "name": "python",
   "nbconvert_exporter": "python",
   "pygments_lexer": "ipython3",
   "version": "3.7.4"
  }
 },
 "nbformat": 4,
 "nbformat_minor": 2
}
