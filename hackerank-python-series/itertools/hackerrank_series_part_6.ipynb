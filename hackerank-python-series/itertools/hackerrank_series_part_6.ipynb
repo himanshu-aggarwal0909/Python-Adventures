{
 "cells": [
  {
   "cell_type": "markdown",
   "metadata": {},
   "source": [
    "# Itertools"
   ]
  },
  {
   "cell_type": "markdown",
   "metadata": {},
   "source": [
    "## itertools.product()"
   ]
  },
  {
   "cell_type": "code",
   "execution_count": 1,
   "metadata": {},
   "outputs": [
    {
     "name": "stdout",
     "output_type": "stream",
     "text": [
      "2 3\n",
      "2 3\n",
      "(2, 2) (2, 3) (3, 2) (3, 3) "
     ]
    },
    {
     "data": {
      "text/plain": [
       "[None, None, None, None]"
      ]
     },
     "execution_count": 1,
     "metadata": {},
     "output_type": "execute_result"
    }
   ],
   "source": [
    "import itertools\n",
    "A = map(int, input().split())\n",
    "B = map(int, input().split())\n",
    "[print(each, end=\" \") for each in itertools.product(A,B)] "
   ]
  },
  {
   "cell_type": "markdown",
   "metadata": {},
   "source": [
    "## itertools.permutations()\n",
    "__Returns a list of tuples of r length permutations of elements in the iterable\n",
    "In permutations order does matters<br>\n",
    "Permutations are printed in a lexicographic sorted order. So, if the input iterable is sorted, the permutation tuples will be produced in a sorted order.\n",
    "<br> Maths Formula n!/(n-r)!__"
   ]
  },
  {
   "cell_type": "code",
   "execution_count": 2,
   "metadata": {},
   "outputs": [
    {
     "name": "stdout",
     "output_type": "stream",
     "text": [
      "HACK 4\n",
      "ACHK\n",
      "ACKH\n",
      "AHCK\n",
      "AHKC\n",
      "AKCH\n",
      "AKHC\n",
      "CAHK\n",
      "CAKH\n",
      "CHAK\n",
      "CHKA\n",
      "CKAH\n",
      "CKHA\n",
      "HACK\n",
      "HAKC\n",
      "HCAK\n",
      "HCKA\n",
      "HKAC\n",
      "HKCA\n",
      "KACH\n",
      "KAHC\n",
      "KCAH\n",
      "KCHA\n",
      "KHAC\n",
      "KHCA\n"
     ]
    },
    {
     "data": {
      "text/plain": [
       "[None,\n",
       " None,\n",
       " None,\n",
       " None,\n",
       " None,\n",
       " None,\n",
       " None,\n",
       " None,\n",
       " None,\n",
       " None,\n",
       " None,\n",
       " None,\n",
       " None,\n",
       " None,\n",
       " None,\n",
       " None,\n",
       " None,\n",
       " None,\n",
       " None,\n",
       " None,\n",
       " None,\n",
       " None,\n",
       " None,\n",
       " None]"
      ]
     },
     "execution_count": 2,
     "metadata": {},
     "output_type": "execute_result"
    }
   ],
   "source": [
    "import itertools\n",
    "S, k = input().split()\n",
    "[print(each) for each in map(\"\".join, itertools.permutations(sorted(S), int(k)))]\n"
   ]
  },
  {
   "cell_type": "markdown",
   "metadata": {},
   "source": [
    "## itertools.combinations\n",
    "__Returns a list of tuples of r length combinations of elements in the iterable\n",
    "In combinations order does not matters.<br>\n",
    "Combinations are emitted in lexicographic sorted order. So, if the input iterable is sorted, the combination tuples will be produced in sorted order.__"
   ]
  },
  {
   "cell_type": "code",
   "execution_count": 3,
   "metadata": {},
   "outputs": [
    {
     "name": "stdout",
     "output_type": "stream",
     "text": [
      "HACK 2\n",
      "A\n",
      "C\n",
      "H\n",
      "K\n",
      "AC\n",
      "AH\n",
      "AK\n",
      "CH\n",
      "CK\n",
      "HK\n"
     ]
    },
    {
     "data": {
      "text/plain": [
       "[None, None, None, None, None, None, None, None, None, None]"
      ]
     },
     "execution_count": 3,
     "metadata": {},
     "output_type": "execute_result"
    }
   ],
   "source": [
    "import itertools\n",
    "S, k = input().split()\n",
    "S, k = sorted(S), int(k)\n",
    "[print(each) for i in range(1, k+1) for each in map(\"\".join, itertools.combinations(S, i))]"
   ]
  },
  {
   "cell_type": "markdown",
   "metadata": {},
   "source": [
    "## itertools.combinations_with_replacement"
   ]
  },
  {
   "cell_type": "code",
   "execution_count": 5,
   "metadata": {},
   "outputs": [
    {
     "name": "stdout",
     "output_type": "stream",
     "text": [
      "combinations_with_replacement(iterable, r) --> combinations_with_replacement object\n",
      "\n",
      "Return successive r-length combinations of elements in the iterable\n",
      "allowing individual elements to have successive repeats.\n",
      "combinations_with_replacement('ABC', 2) --> AA AB AC BB BC CC\n"
     ]
    }
   ],
   "source": [
    "print(itertools.combinations_with_replacement.__doc__)"
   ]
  },
  {
   "cell_type": "code",
   "execution_count": 7,
   "metadata": {},
   "outputs": [
    {
     "name": "stdout",
     "output_type": "stream",
     "text": [
      "HACk 2\n",
      "AA\n",
      "AC\n",
      "AH\n",
      "Ak\n",
      "CC\n",
      "CH\n",
      "Ck\n",
      "HH\n",
      "Hk\n",
      "kk\n"
     ]
    },
    {
     "data": {
      "text/plain": [
       "[None, None, None, None, None, None, None, None, None, None]"
      ]
     },
     "execution_count": 7,
     "metadata": {},
     "output_type": "execute_result"
    }
   ],
   "source": [
    "import itertools\n",
    "S, k = input().split()\n",
    "S, k = sorted(S), int(k)\n",
    "[print(each) for each in map(\"\".join, itertools.combinations_with_replacement(S, k))]"
   ]
  },
  {
   "cell_type": "markdown",
   "metadata": {},
   "source": [
    "## Compress the String!"
   ]
  },
  {
   "cell_type": "code",
   "execution_count": 27,
   "metadata": {},
   "outputs": [
    {
     "name": "stdout",
     "output_type": "stream",
     "text": [
      "12223112\n",
      "(1, 1) (3, 2) (1, 3) (2, 1) (1, 2) "
     ]
    },
    {
     "data": {
      "text/plain": [
       "[None, None, None, None, None]"
      ]
     },
     "execution_count": 27,
     "metadata": {},
     "output_type": "execute_result"
    }
   ],
   "source": [
    "import itertools\n",
    "[print((len(list(j)), int(i)), end=\" \") for i,j in itertools.groupby(input())]"
   ]
  },
  {
   "cell_type": "markdown",
   "metadata": {},
   "source": [
    "## Iterables and Iterators"
   ]
  },
  {
   "cell_type": "code",
   "execution_count": 29,
   "metadata": {},
   "outputs": [
    {
     "name": "stdout",
     "output_type": "stream",
     "text": [
      "9\n",
      "a b c a d b z e o\n",
      "4\n",
      "0.722\n"
     ]
    }
   ],
   "source": [
    "# Enter your code here. Read input from STDIN. Print output to STDOUT\n",
    "import itertools\n",
    "N = int(input())\n",
    "letters = input().split()\n",
    "k  = int(input())\n",
    "all_combinations = list(itertools.combinations(letters, k))\n",
    "print(\"{0:.3f}\".format(sum(map(lambda x : 'a' in x, all_combinations))/len(all_combinations)))"
   ]
  },
  {
   "cell_type": "markdown",
   "metadata": {},
   "source": [
    "## Maximize It!"
   ]
  },
  {
   "cell_type": "code",
   "execution_count": 41,
   "metadata": {},
   "outputs": [
    {
     "name": "stdout",
     "output_type": "stream",
     "text": [
      "7 867\n",
      "7 6429964 4173738 9941618 2744666 5392018 5813128 9452095\n",
      "7 6517823 4135421 6418713 9924958 9370532 7940650 2027017\n",
      "7 1506500 3460933 1550284 3679489 4538773 5216621 5645660\n",
      "7 7443563 5181142 8804416 8726696 5358847 7155276 4433125\n",
      "7 2230555 3920370 7851992 1176871 610460 309961 3921536\n",
      "7 8518829 8639441 3373630 5036651 5291213 2308694 7477960\n",
      "7 7178097 249343 9504976 8684596 6226627 1055259 4880436\n",
      "866\n"
     ]
    }
   ],
   "source": [
    "# Enter your code here. Read input from STDIN. Print output to STDOUT\n",
    "import itertools, math\n",
    "K, M = map(int, input().split())\n",
    "s = 0\n",
    "N = [map(pow, list(map(int, input().split()))[1:], itertools.repeat(2)) for _ in range(K)]\n",
    "print(max(map(lambda x : x%M, map(sum, itertools.product(*N)))))"
   ]
  }
 ],
 "metadata": {
  "kernelspec": {
   "display_name": "Python 3",
   "language": "python",
   "name": "python3"
  },
  "language_info": {
   "codemirror_mode": {
    "name": "ipython",
    "version": 3
   },
   "file_extension": ".py",
   "mimetype": "text/x-python",
   "name": "python",
   "nbconvert_exporter": "python",
   "pygments_lexer": "ipython3",
   "version": "3.7.4"
  }
 },
 "nbformat": 4,
 "nbformat_minor": 2
}
