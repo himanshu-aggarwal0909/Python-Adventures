{
 "cells": [
  {
   "cell_type": "markdown",
   "metadata": {},
   "source": [
    "# Collections"
   ]
  },
  {
   "cell_type": "code",
   "execution_count": 86,
   "metadata": {},
   "outputs": [],
   "source": [
    "import collections\n",
    "import itertools"
   ]
  },
  {
   "cell_type": "markdown",
   "metadata": {},
   "source": [
    "![python collections methods](Collections_all_summary.PNG \"Python Collection methods\")\n",
    "<p style=\"text-align:center\"><b>Reference :</b> <a href=\"https://docs.python.org/3/library/collections.html\">https://docs.python.org/3/library/collections.html</a></p>"
   ]
  },
  {
   "cell_type": "markdown",
   "metadata": {},
   "source": [
    "## collections.Counter\n",
    "__A counter is a container that stores elements as dictionary keys, and their counts are stored as dictionary values.__"
   ]
  },
  {
   "cell_type": "code",
   "execution_count": 23,
   "metadata": {},
   "outputs": [
    {
     "name": "stdout",
     "output_type": "stream",
     "text": [
      "10\n",
      "2 3 4 5 6 8 7 6 5 18\n",
      "6\n",
      "6 55\n",
      "6 45\n",
      "6 55\n",
      "4 40\n",
      "18 60\n",
      "10 50\n",
      "200\n"
     ]
    }
   ],
   "source": [
    "import collections\n",
    "X = int(input())\n",
    "shoes_store = collections.Counter(map(int, input().split()))\n",
    "numbers_of_cust = int(input())\n",
    "money_earned = 0\n",
    "for _ in range(numbers_of_cust):\n",
    "    size, price = map(int, input().split())\n",
    "    if shoes_store[size] > 0:\n",
    "        shoes_store[size] -= 1\n",
    "        money_earned += price\n",
    "print(money_earned)"
   ]
  },
  {
   "cell_type": "markdown",
   "metadata": {},
   "source": [
    "## collections.defaultdict\n",
    "<p>The defaultdict tool is a container in the collections class of Python. <br>\n",
    "It's similar to the usual dictionary (dict) container, but the only difference is that a defaultdict will have a default value if that key has not been set yet. <br>If you didn't use a defaultdict you'd have to check to see if that key exists, and if it doesn't, set it to what you want.</p>"
   ]
  },
  {
   "cell_type": "code",
   "execution_count": 24,
   "metadata": {},
   "outputs": [
    {
     "name": "stdout",
     "output_type": "stream",
     "text": [
      "5 2\n",
      "a\n",
      "a\n",
      "b\n",
      "a\n",
      "b\n",
      "a\n",
      "1 2 4\n",
      "b\n",
      "3 5\n"
     ]
    }
   ],
   "source": [
    "import collections\n",
    "m, n = map(int, input().split())\n",
    "def_dict = collections.defaultdict(list)\n",
    "[def_dict[input()].append(i) for i in range(1,m+1)]\n",
    "for _ in range(n):\n",
    "    s = input()\n",
    "    print(-1) if not def_dict[s] else print(\" \".join(map(str, def_dict[s])))"
   ]
  },
  {
   "cell_type": "markdown",
   "metadata": {},
   "source": [
    "## collections.namedtuple"
   ]
  },
  {
   "cell_type": "code",
   "execution_count": 41,
   "metadata": {},
   "outputs": [],
   "source": [
    "# print(collections.namedtuple.__doc__)"
   ]
  },
  {
   "cell_type": "code",
   "execution_count": 42,
   "metadata": {},
   "outputs": [
    {
     "name": "stdout",
     "output_type": "stream",
     "text": [
      "5\n",
      "ID         MARKS      NAME       CLASS\n",
      "1          97         Raymond    7\n",
      "2          50         Steven     4\n",
      "3          91         Adrian     9\n",
      "4          72         Stewart    5\n",
      "5          80         Peter      6\n",
      "78.00\n"
     ]
    }
   ],
   "source": [
    "import collections\n",
    "import itertools\n",
    "N = int(input())\n",
    "student_marks = collections.namedtuple('student', input().split())\n",
    "total_marks = 0\n",
    "for _ in range(N):\n",
    "    student = student_marks(*itertools.starmap(lambda x : int(x) if x.isdigit() else x, map(lambda x : [x], input().split())))\n",
    "    total_marks += student.MARKS\n",
    "print(\"{0:.2f}\".format(total_marks/N))"
   ]
  },
  {
   "cell_type": "markdown",
   "metadata": {},
   "source": [
    "## collections.OrderedDict\n",
    "<p>It remembers the order in which the elements in the dictionary are inserted.</p>"
   ]
  },
  {
   "cell_type": "code",
   "execution_count": 43,
   "metadata": {},
   "outputs": [
    {
     "name": "stdout",
     "output_type": "stream",
     "text": [
      "9\n",
      "BANANA FRIES 12\n",
      "POTATO CHIPS 30\n",
      "POTATO CHIPS 30\n",
      "APPLE JUICE 10\n",
      "CANDY 5\n",
      "APPLE JUICE 10\n",
      "CANDY 5\n",
      "CANDY 5\n",
      "CANDY 5\n",
      "BANANA FRIES 12\n",
      "POTATO CHIPS 60\n",
      "APPLE JUICE 20\n",
      "CANDY 20\n"
     ]
    },
    {
     "data": {
      "text/plain": [
       "[None, None, None, None]"
      ]
     },
     "execution_count": 43,
     "metadata": {},
     "output_type": "execute_result"
    }
   ],
   "source": [
    "import collections\n",
    "ordered_dict = collections.OrderedDict()\n",
    "N = int(input())\n",
    "for _ in range(N):\n",
    "    line = input().split()\n",
    "    item_name, net_price = \" \".join(line[:-1]), int(line[-1])\n",
    "    ordered_dict[item_name] = net_price if item_name not in ordered_dict.keys() else ordered_dict[item_name] + net_price\n",
    "[print(each, i) for each, i in ordered_dict.items()]\n"
   ]
  },
  {
   "cell_type": "markdown",
   "metadata": {},
   "source": [
    "## Word Order"
   ]
  },
  {
   "cell_type": "code",
   "execution_count": 44,
   "metadata": {},
   "outputs": [
    {
     "name": "stdout",
     "output_type": "stream",
     "text": [
      "4\n",
      "bcdef\n",
      "abcdefg\n",
      "bcde\n",
      "bcdef\n",
      "3\n",
      "2 1 1\n"
     ]
    }
   ],
   "source": [
    "import collections\n",
    "n = int(input())\n",
    "ordered_dict = collections.OrderedDict()\n",
    "for _ in range(n):\n",
    "    word = input()\n",
    "    ordered_dict[word] = 1 if word not in ordered_dict.keys() else ordered_dict[word] + 1\n",
    "print(len(ordered_dict.keys()))\n",
    "print(\" \".join(map(str, ordered_dict.values())))"
   ]
  },
  {
   "cell_type": "markdown",
   "metadata": {},
   "source": [
    "## collections.deque\n",
    "<p>append appendleft clear copy count extend extendleft index insert maxlen pop popleft remove reverse rotate </p>\n"
   ]
  },
  {
   "cell_type": "code",
   "execution_count": 47,
   "metadata": {},
   "outputs": [
    {
     "name": "stdout",
     "output_type": "stream",
     "text": [
      "6\n",
      "append 1\n",
      "append 2\n",
      "append 3\n",
      "appendleft 4\n",
      "pop\n",
      "popleft\n",
      "1 2 "
     ]
    },
    {
     "data": {
      "text/plain": [
       "[None, None]"
      ]
     },
     "execution_count": 47,
     "metadata": {},
     "output_type": "execute_result"
    }
   ],
   "source": [
    "import collections\n",
    "d = collections.deque()\n",
    "import collections\n",
    "N = int(input())\n",
    "d = collections.deque()\n",
    "for _ in range(N):\n",
    "    line = input().split()\n",
    "    eval(\"d.\"+line[0]+\"()\") if 'pop' in line[0] else eval(\"d.\"+line[0]+\"(\"+line[1]+\")\")\n",
    "[print(each, end=\" \") for each in d]"
   ]
  },
  {
   "cell_type": "markdown",
   "metadata": {},
   "source": [
    "## Company Logo"
   ]
  },
  {
   "cell_type": "code",
   "execution_count": 49,
   "metadata": {},
   "outputs": [
    {
     "name": "stdout",
     "output_type": "stream",
     "text": [
      "aabbccdde\n",
      "a 2\n",
      "b 2\n",
      "c 2\n"
     ]
    }
   ],
   "source": [
    "import math\n",
    "import os\n",
    "import random\n",
    "import re\n",
    "import sys\n",
    "import collections\n",
    "import itertools\n",
    "\n",
    "\n",
    "if __name__ == '__main__':\n",
    "    s = input()\n",
    "    class OrderedCounter(collections.Counter, collections.OrderedDict):\n",
    "        pass\n",
    "    char_counter = OrderedCounter(sorted(s))\n",
    "    [print(\" \".join(map(str, each))) for each in list(sorted(char_counter.items(), key=lambda x : x[1], reverse=True))[:3]]\n"
   ]
  },
  {
   "cell_type": "markdown",
   "metadata": {},
   "source": [
    "## Piling Up!"
   ]
  },
  {
   "cell_type": "code",
   "execution_count": 85,
   "metadata": {},
   "outputs": [
    {
     "name": "stdout",
     "output_type": "stream",
     "text": [
      "2\n",
      "6\n",
      "4 3 2 1 3 4\n",
      "Yes\n",
      "3\n",
      "1 3 2\n",
      "No\n"
     ]
    }
   ],
   "source": [
    "import collections\n",
    "test_cases = int(input())\n",
    "for _ in range(test_cases):\n",
    "    n = int(input())\n",
    "    cubes_length_deque = collections.deque(map(int, input().split()))\n",
    "    till_max = 0\n",
    "    flag = True\n",
    "    for i, each in enumerate(range(n)):\n",
    "        if cubes_length_deque[-1] >= cubes_length_deque[0]:\n",
    "            popped_elem = cubes_length_deque.pop()\n",
    "        else:\n",
    "            popped_elem = cubes_length_deque.popleft()\n",
    "        if i==0:\n",
    "            till_max = popped_elem\n",
    "            continue\n",
    "        if popped_elem > till_max:\n",
    "            flag = False\n",
    "        else:\n",
    "            till_max = popped_elem\n",
    "    print(\"Yes\" if flag else \"No\")\n",
    "    \n"
   ]
  }
 ],
 "metadata": {
  "kernelspec": {
   "display_name": "Python 3",
   "language": "python",
   "name": "python3"
  },
  "language_info": {
   "codemirror_mode": {
    "name": "ipython",
    "version": 3
   },
   "file_extension": ".py",
   "mimetype": "text/x-python",
   "name": "python",
   "nbconvert_exporter": "python",
   "pygments_lexer": "ipython3",
   "version": "3.7.4"
  }
 },
 "nbformat": 4,
 "nbformat_minor": 2
}
