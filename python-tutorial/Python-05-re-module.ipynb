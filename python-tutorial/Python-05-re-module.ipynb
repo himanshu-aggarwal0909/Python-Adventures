{
 "cells": [
  {
   "cell_type": "markdown",
   "metadata": {},
   "source": [
    "# Regex"
   ]
  },
  {
   "cell_type": "markdown",
   "metadata": {},
   "source": [
    "## Identifiers / Special Sequences\n"
   ]
  },
  {
   "cell_type": "markdown",
   "metadata": {},
   "source": [
    "\n",
    "<p style=\"border-style:solid;border-spacing=length;border-width:1px;padding:9px\">\n",
    "    <b>\\b</b> Matches Empty String(Spaces) around the words<br>\n",
    "    <b>\\B</b> Matches Empty String(spaces) but not around word boundary<br>\n",
    "    <b>\\d</b> Matches Any Digit <br>\n",
    "    <b>\\D</b> Matches Anything But not a  Digit <br>\n",
    "    <b>\\s</b> Matches a Whitespace [ \\t\\n\\r\\f\\v] <br>\n",
    "    <b>\\S</b> Matches Anything But not a space <br>\n",
    "    <b>\\w</b> Matches Alphanumeric[a-zA-Z0-9]\n",
    "</p>\n",
    "\n",
    "<p style=\"border-style:solid;border-spacing=length;border-width:1px;padding:9px\">\n",
    "    <b>^</b> Matches start of the string<br>\n",
    "    <b>$</b> Matches end of the string<br>\n",
    "    <b>*</b> 0 or more occurences<br>\n",
    "    <b>+</b> 1 or more occurences <br>\n",
    "    <b></b>\n",
    "    <b>?</b> 0 or more occurences <br>\n",
    "    <b>|</b> or <br>\n",
    "    <b>()</b> Capture Group <br>\n",
    "    <b>{n}</b> Exactly n number of occurences <br>\n",
    "    <b>{m,n}</b> Exactly m-n number of occurences <br>\n",
    "</p>\n",
    "\n",
    "<p style=\"border-style:solid;border-spacing=length;border-width:1px;padding:9px\">\n",
    "    <b>(?=..)</b> Positive lookahead <br>\n",
    "    <b>(?<=..)</b> Positive lookbehind <br>\n",
    "    <b>(?!..)</b> Negative lookahead <br>\n",
    "    <b>(?<!..)</b> Negative lookbehind <br>\n",
    "</p>\n",
    "<p style=\"border-style:solid;border-spacing=length;border-width:1px;padding:9px\"> * + ? | [] {} \\ . ^ $ </p>"
   ]
  },
  {
   "cell_type": "code",
   "execution_count": 151,
   "metadata": {},
   "outputs": [],
   "source": [
    "import re"
   ]
  },
  {
   "cell_type": "markdown",
   "metadata": {},
   "source": [
    "## re.search\n",
    "__re.search__ : It searches the whole string and return the first matched part of the string(if any) else None.<br>"
   ]
  },
  {
   "cell_type": "code",
   "execution_count": 152,
   "metadata": {},
   "outputs": [
    {
     "name": "stdout",
     "output_type": "stream",
     "text": [
      "Scan through string looking for a match to the pattern, returning\n",
      "    a Match object, or None if no match was found.\n"
     ]
    }
   ],
   "source": [
    "print(re.search.__doc__)"
   ]
  },
  {
   "cell_type": "code",
   "execution_count": 153,
   "metadata": {},
   "outputs": [
    {
     "name": "stdout",
     "output_type": "stream",
     "text": [
      "<re.Match object; span=(5, 6), match='W'>\n"
     ]
    }
   ],
   "source": [
    "rs_obj = re.search(\"W\", \"HELLOWORLSW\")\n",
    "print(rs_obj) #Returns the matched object (part of the string that matched)"
   ]
  },
  {
   "cell_type": "markdown",
   "metadata": {},
   "source": [
    "## re.match\n",
    "__re.match__   : It searches the whole string from the start else same as re.search."
   ]
  },
  {
   "cell_type": "code",
   "execution_count": 154,
   "metadata": {},
   "outputs": [
    {
     "name": "stdout",
     "output_type": "stream",
     "text": [
      "Try to apply the pattern at the start of the string, returning\n",
      "    a Match object, or None if no match was found.\n"
     ]
    }
   ],
   "source": [
    "print(re.match.__doc__)"
   ]
  },
  {
   "cell_type": "code",
   "execution_count": 155,
   "metadata": {},
   "outputs": [
    {
     "name": "stdout",
     "output_type": "stream",
     "text": [
      "None\n"
     ]
    }
   ],
   "source": [
    "rs_obj = re.match(\"W\", \"HELLOWORLSW\") \n",
    "print(rs_obj) #Returns none as, it matches from the start of the string"
   ]
  },
  {
   "cell_type": "code",
   "execution_count": 156,
   "metadata": {},
   "outputs": [
    {
     "data": {
      "text/plain": [
       "<re.Match object; span=(12, 20), match='23 years'>"
      ]
     },
     "execution_count": 156,
     "metadata": {},
     "output_type": "execute_result"
    }
   ],
   "source": [
    "re.search(\"\\d* years\", \"himanshu is 23 years old\")"
   ]
  },
  {
   "cell_type": "markdown",
   "metadata": {},
   "source": [
    "## re.findall"
   ]
  },
  {
   "cell_type": "code",
   "execution_count": 157,
   "metadata": {},
   "outputs": [
    {
     "name": "stdout",
     "output_type": "stream",
     "text": [
      "Return a list of all non-overlapping matches in the string.\n",
      "\n",
      "    If one or more capturing groups are present in the pattern, return\n",
      "    a list of groups; this will be a list of tuples if the pattern\n",
      "    has more than one group.\n",
      "\n",
      "    Empty matches are included in the result.\n"
     ]
    }
   ],
   "source": [
    "print(re.findall.__doc__)"
   ]
  },
  {
   "cell_type": "code",
   "execution_count": 158,
   "metadata": {},
   "outputs": [
    {
     "name": "stdout",
     "output_type": "stream",
     "text": [
      "student_marks : ['24', '24', '54']\n",
      "student_subjects :  ['English', 'Maths', 'Psycology']\n",
      "student_names :  {'Jassie', 'John', 'Simran'}\n"
     ]
    }
   ],
   "source": [
    "# Suppose we got a string(mentioned below) and we want to fetch marks, sujects and student names from the string\n",
    "s = \"Jassie got 24 marks in English, John scored 24 marks in Maths and Simran got 54 marks in Psycology.\" \n",
    "\n",
    "student_marks = re.findall(\"\\d{1,2}\", s) #Matches a digit of length 1 or 2\n",
    "student_subjects = re.findall(\"in ([A-Z][a-z]*)\", s) #Matches the words after \"in \" and must start with a capital character\n",
    "student_names = re.findall(\"[A-Z][a-z]*\", s) #Matches all the words that start with a capital character\n",
    "print(\"student_marks : \" + str(student_marks))\n",
    "print(\"student_subjects : \", student_subjects) #Each subject returns in phrase \n",
    "student_names = set(student_names).difference(student_subjects) #Remving subject names from students names\n",
    "print(\"student_names : \", student_names)"
   ]
  },
  {
   "cell_type": "markdown",
   "metadata": {},
   "source": [
    "## re.split"
   ]
  },
  {
   "cell_type": "code",
   "execution_count": 159,
   "metadata": {},
   "outputs": [],
   "source": [
    "re.split?"
   ]
  },
  {
   "cell_type": "markdown",
   "metadata": {},
   "source": [
    "## re.compile"
   ]
  },
  {
   "cell_type": "code",
   "execution_count": 160,
   "metadata": {},
   "outputs": [
    {
     "name": "stdout",
     "output_type": "stream",
     "text": [
      "Compile a regular expression pattern, returning a Pattern object.\n"
     ]
    }
   ],
   "source": [
    "print(re.compile.__doc__)"
   ]
  },
  {
   "cell_type": "code",
   "execution_count": 161,
   "metadata": {},
   "outputs": [
    {
     "name": "stdout",
     "output_type": "stream",
     "text": [
      "[<re.Match object; span=(0, 1), match='1'>, <re.Match object; span=(1, 2), match='2'>, <re.Match object; span=(2, 3), match='3'>, <re.Match object; span=(3, 4), match='4'>, <re.Match object; span=(4, 5), match='5'>]\n",
      "['1', '2', '3', '4', '5']\n"
     ]
    }
   ],
   "source": [
    "pattern = re.compile(r'\\d')\n",
    "print(list(pattern.finditer(\"12345\"))) #It returns iterator over the matched object.\n",
    "print(re.findall(pattern, \"12345\")) #It returns the list of all the matched strings."
   ]
  },
  {
   "cell_type": "markdown",
   "metadata": {},
   "source": [
    "## re.group\n",
    "__Returns one or more subgroups of the match.__"
   ]
  },
  {
   "cell_type": "code",
   "execution_count": 172,
   "metadata": {},
   "outputs": [
    {
     "name": "stdout",
     "output_type": "stream",
     "text": [
      "group([group1, ...]) -> str or tuple.\n",
      "    Return subgroup(s) of the match by indices or names.\n",
      "    For 0 returns the entire match.\n"
     ]
    }
   ],
   "source": [
    "print(re.match(\"(\\w+)\\t(\\w+)\", \"HELLO\\tWORLSWH\").group.__doc__)"
   ]
  },
  {
   "cell_type": "code",
   "execution_count": 173,
   "metadata": {},
   "outputs": [
    {
     "name": "stdout",
     "output_type": "stream",
     "text": [
      "HELLO\tWORLSWH\n",
      "HELLO\tWORLSWH\n",
      "HELLO\n",
      "WORLSWH\n"
     ]
    }
   ],
   "source": [
    "print(re.match(\"(\\w+)\\t(\\w+)\", \"HELLO\\tWORLSWH\").group()) #Returns the entire match\n",
    "print(re.match(\"(\\w+)\\t(\\w+)\", \"HELLO\\tWORLSWH\").group(0)) #Returns the entire match\n",
    "print(re.match(\"(\\w+)\\t(\\w+)\", \"HELLO\\tWORLSWH\").group(1)) #Returns the first matched object\n",
    "print(re.match(\"(\\w+)\\t(\\w+)\", \"HELLO\\tWORLSWH\").group(2)) #Returns the second matched object"
   ]
  },
  {
   "cell_type": "markdown",
   "metadata": {},
   "source": [
    "## re.groups"
   ]
  },
  {
   "cell_type": "code",
   "execution_count": 174,
   "metadata": {},
   "outputs": [
    {
     "name": "stdout",
     "output_type": "stream",
     "text": [
      "Return a tuple containing all the subgroups of the match, from 1.\n",
      "\n",
      "  default\n",
      "    Is used for groups that did not participate in the match.\n"
     ]
    }
   ],
   "source": [
    "print(re.match(\"(\\w+)\\t(\\w+)\", \"HELLO\\tWORLSWH\").groups.__doc__)"
   ]
  },
  {
   "cell_type": "code",
   "execution_count": 177,
   "metadata": {},
   "outputs": [
    {
     "name": "stdout",
     "output_type": "stream",
     "text": [
      "('HELLO', 'WORLSWH')\n"
     ]
    }
   ],
   "source": [
    "print(re.match(\"(\\w+)\\t(\\w+)\", \"HELLO\\tWORLSWH\").groups())"
   ]
  },
  {
   "cell_type": "markdown",
   "metadata": {},
   "source": [
    "## re.start, re.end & re.span\n",
    "__Return the start and end index of the matched part from the string__"
   ]
  },
  {
   "cell_type": "code",
   "execution_count": 189,
   "metadata": {},
   "outputs": [
    {
     "name": "stdout",
     "output_type": "stream",
     "text": [
      "4\n",
      "8\n",
      "<re.Match object; span=(4, 8), match='ABCD'>\n",
      "(4, 8)\n"
     ]
    }
   ],
   "source": [
    "print(re.search(\"\\w+\", \"....ABCD\").start()) # Returns the start of the index of the first alphanumeric character series\n",
    "print(re.search(\"\\w+\", \"....ABCD\").end()) # Returns the end of the index of the first alphanumeric character series\n",
    "print(re.search(\"\\w+\", \"....ABCD\"))\n",
    "print(re.search(\"\\w+\", \"....ABCD\").span()) # Both start and end as a tuple."
   ]
  },
  {
   "cell_type": "markdown",
   "metadata": {},
   "source": [
    "## re.sub"
   ]
  },
  {
   "cell_type": "code",
   "execution_count": 190,
   "metadata": {},
   "outputs": [
    {
     "name": "stdout",
     "output_type": "stream",
     "text": [
      "Return the string obtained by replacing the leftmost\n",
      "    non-overlapping occurrences of the pattern in string by the\n",
      "    replacement repl.  repl can be either a string or a callable;\n",
      "    if a string, backslash escapes in it are processed.  If it is\n",
      "    a callable, it's passed the Match object and must return\n",
      "    a replacement string to be used.\n"
     ]
    }
   ],
   "source": [
    "print(re.sub.__doc__)"
   ]
  },
  {
   "cell_type": "code",
   "execution_count": 205,
   "metadata": {},
   "outputs": [],
   "source": [
    "make_it_twice = lambda x : str(int(x.group(0))*2 if int(x.group(0)) < 50 else int(x.group(0))) "
   ]
  },
  {
   "cell_type": "code",
   "execution_count": 206,
   "metadata": {},
   "outputs": [
    {
     "data": {
      "text/plain": [
       "'John is 44 years old and Senorita is 40 years old whereas, Evan is the oldest with the age of 56 years'"
      ]
     },
     "execution_count": 206,
     "metadata": {},
     "output_type": "execute_result"
    }
   ],
   "source": [
    "re.sub(r\"\\t\", \"-\", \"AA\\tAA\") #Will replace tab by -\n",
    "re.sub(r\"\\d+\", make_it_twice, \"John is 22 years old and Senorita is 20 years old whereas, Evan is the oldest with the age of 56 years\")"
   ]
  },
  {
   "cell_type": "markdown",
   "metadata": {},
   "source": [
    "## Reference \n",
    "<a href=\"http://www.pyregex.com/\">http://www.pyregex.com/</a><br>\n",
    "<a href=\"https://www.rexegg.com/regex-quickstart.html\">https://www.rexegg.com/regex-quickstart.html</a><br>\n",
    "<a href=\"https://docs.python.org/3/library/re.html\">https://docs.python.org/3/library/re.html</a>"
   ]
  },
  {
   "cell_type": "code",
   "execution_count": null,
   "metadata": {},
   "outputs": [],
   "source": []
  }
 ],
 "metadata": {
  "kernelspec": {
   "display_name": "Python 3",
   "language": "python",
   "name": "python3"
  },
  "language_info": {
   "codemirror_mode": {
    "name": "ipython",
    "version": 3
   },
   "file_extension": ".py",
   "mimetype": "text/x-python",
   "name": "python",
   "nbconvert_exporter": "python",
   "pygments_lexer": "ipython3",
   "version": "3.7.4"
  }
 },
 "nbformat": 4,
 "nbformat_minor": 2
}
