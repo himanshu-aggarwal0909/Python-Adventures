{
 "cells": [
  {
   "cell_type": "markdown",
   "metadata": {},
   "source": [
    "<div style=\"background-color:lightblue;padding:20px\">\n",
    " <h1> &nbsp; Python  </h1>  \n",
    "    \n",
    "__&nbsp;  &nbsp;  &nbsp; &nbsp; &nbsp; &nbsp; Founded By Guido Van Rossum, in 1991__\n",
    "    <br>\n",
    "</div>"
   ]
  },
  {
   "cell_type": "markdown",
   "metadata": {},
   "source": [
    "***\n",
    "A popular programming language and becoming a de-facto language in the field of Data Science.<br>\n",
    "Having 3rd Highest <a href=\"https://www.tiobe.com/tiobe-index/\">TIOBE index</a> as of July, 2019.\n",
    "\n",
    "Some KeyPoints:\n",
    "* It is an interpreted Language.\n",
    "* A dynamically typed language ( type is associated with run-time values).\n",
    "* Easy to read and write (English like syntax)\n",
    "* Usecases : Web Applications, Workflows, Games and Apps, Data Science, Database systems, Scripting\n",
    "* Uses identation as the block of code.\n",
    "           \n",
    "***\n",
    "           "
   ]
  },
  {
   "cell_type": "markdown",
   "metadata": {},
   "source": [
    "## Python Basics"
   ]
  },
  {
   "cell_type": "markdown",
   "metadata": {},
   "source": [
    "### <span id=\"comments\"> Comments </span>"
   ]
  },
  {
   "cell_type": "code",
   "execution_count": 1,
   "metadata": {},
   "outputs": [
    {
     "data": {
      "text/plain": [
       "'\\nThis is a multiline comment\\n'"
      ]
     },
     "execution_count": 1,
     "metadata": {},
     "output_type": "execute_result"
    }
   ],
   "source": [
    "#Single Line comment \n",
    "\"\"\"\n",
    "This is a multiline comment\n",
    "\"\"\""
   ]
  },
  {
   "cell_type": "markdown",
   "metadata": {},
   "source": [
    "### Version"
   ]
  },
  {
   "cell_type": "code",
   "execution_count": 2,
   "metadata": {},
   "outputs": [
    {
     "name": "stdout",
     "output_type": "stream",
     "text": [
      "Python 3.7.3\n"
     ]
    },
    {
     "data": {
      "text/plain": [
       "'3.7.3 (default, Mar 27 2019, 17:13:21) [MSC v.1915 64 bit (AMD64)]'"
      ]
     },
     "execution_count": 2,
     "metadata": {},
     "output_type": "execute_result"
    }
   ],
   "source": [
    "#To check the version of Python   \n",
    "#on cmd\n",
    "!python --version\n",
    "#in console\n",
    "import sys\n",
    "sys.version"
   ]
  },
  {
   "cell_type": "code",
   "execution_count": 3,
   "metadata": {},
   "outputs": [
    {
     "name": "stdout",
     "output_type": "stream",
     "text": [
      "Hello World!\n"
     ]
    }
   ],
   "source": [
    "#print \n",
    "print(\"Hello World!\")"
   ]
  },
  {
   "cell_type": "markdown",
   "metadata": {},
   "source": [
    "### <span id=\"variables\"> Variables </span>"
   ]
  },
  {
   "cell_type": "code",
   "execution_count": 4,
   "metadata": {},
   "outputs": [
    {
     "name": "stdout",
     "output_type": "stream",
     "text": [
      "Hello Himanshu!\n",
      "1 2\n"
     ]
    }
   ],
   "source": [
    "#Variables (dynamically typed laguage)\n",
    "#Naming convention : alphanumeric and underscores, are case sensitive (cannot start with numberic)\n",
    "x = 5\n",
    "x = \"Hello\"\n",
    "X = \"Himanshu!\"\n",
    "p, q = 1, 2\n",
    "print(x , X)\n",
    "print(p, q)"
   ]
  },
  {
   "cell_type": "markdown",
   "metadata": {},
   "source": [
    "### <span id=\"numbers\">Numbers</span>"
   ]
  },
  {
   "cell_type": "code",
   "execution_count": 5,
   "metadata": {},
   "outputs": [
    {
     "name": "stdout",
     "output_type": "stream",
     "text": [
      "1 <class 'int'>\n",
      "2.8 <class 'float'>\n",
      "20000.0 <class 'float'>\n",
      "(4+1j) <class 'complex'>\n"
     ]
    }
   ],
   "source": [
    "#Python Numbers\n",
    "x = 1    # int\n",
    "y = 2.8  # float\n",
    "Y = 2e4  #float can use scientific notation for 10^ power notation\n",
    "z = 4 + 1j   # complex\n",
    "#Can use type function to return the type of the variable\n",
    "print(x , type(x))\n",
    "print(y , type(y))\n",
    "print(Y , type(Y))\n",
    "print(z , type(z))\n"
   ]
  },
  {
   "cell_type": "markdown",
   "metadata": {},
   "source": [
    "#### Random number \n",
    "<a href=\"https://www.w3schools.com/python/module_random.asp\">Random Module reference</a>"
   ]
  },
  {
   "cell_type": "code",
   "execution_count": 6,
   "metadata": {},
   "outputs": [
    {
     "name": "stdout",
     "output_type": "stream",
     "text": [
      "6\n",
      "3\n",
      "0.3599469850442266\n"
     ]
    }
   ],
   "source": [
    "#Random number \n",
    "import random\n",
    "print(random.randrange(0,10)) #Choose a random item from range(start, stop[, step]) only integers\n",
    "print(random.randint(0,10))   #Same as randrange but also, includes the endpoint\n",
    "print(random.random())        #Any value between [0,1)"
   ]
  },
  {
   "cell_type": "markdown",
   "metadata": {},
   "source": [
    "### <span id=\"strings\"> Strings </span>"
   ]
  },
  {
   "cell_type": "code",
   "execution_count": 7,
   "metadata": {},
   "outputs": [
    {
     "name": "stdout",
     "output_type": "stream",
     "text": [
      "Hello World!\n",
      " Hello \n",
      "World!\n",
      "y\n",
      "pytho\n",
      "pytho\n",
      "n\n",
      "Length Of String :  6\n",
      "PYTHON\n",
      "python\n",
      "Python Is Easy\n",
      "python\n",
      "python***#\n",
      "Pythonnn\n",
      "Pythonnm\n",
      "['Python', 'R', 'C', 'C++']\n",
      "You are learning Python 3!\n",
      "Python is cool!\n",
      "\n",
      "Left, center and right alignment with Formatting: \n",
      "|Python    |         is         |      Cool|\n",
      "Rounding off float to 2 decimal places : 322.57 \n",
      " Exponential representation of float : 2.000000e+15\n"
     ]
    }
   ],
   "source": [
    "#Strings are immutable.\n",
    "#In python, string is array of bytes representing unicode characters\n",
    "\n",
    "#Single line String\n",
    "x = \"Hello World!\"\n",
    "print(x) #prints the string\n",
    "\n",
    "#multiline string\n",
    "x = \"\"\" Hello \n",
    "World!\"\"\"\n",
    "print(x)\n",
    "\n",
    "#In python, string is array of bytes representing unicode characters\n",
    "#Can be accessed using indexes \n",
    "x= \"python\"\n",
    "print(x[1])\n",
    "#Substring\n",
    "print(x[0:5])  \n",
    "print(x[:5])  #empty y default starts from initial i.e. 0th index\n",
    "#Negative indexing starts from the last like,\n",
    "print(x[-1])\n",
    "\n",
    "#Length of string\n",
    "print(\"Length Of String : \" , len(x))\n",
    "\n",
    "print(\"python\".upper())  # Converts whole string to Uppercase\n",
    "print(\"Python\".lower())  # Converts whole string to lowercase\n",
    "print(\"python is eAsy\".title())  # Converts each word first letter to uppercase (camel case)\n",
    "\n",
    "print(\" python \".strip())        # Removes the whitespace from start and end \n",
    "print(\"*python***#*\".strip(\"*\")) # Removes the specified character from the start and end till the other occurence of any other character\n",
    "\n",
    "print(\"Pythommm\".replace(\"m\", \"n\"))     #str.replace(a, b) replaces the every occurence of a with b in str \n",
    "print(\"Pythommm\".replace(\"m\", \"n\", 2))  #str.replace(a, b, n) replaces the a's first n occurences each with b in str.\n",
    "\n",
    "print(\"Python,R,C,C++\".split(\",\")) #Split the string into list on the specified string Return's ['Python', 'R', 'C', 'C++']\n",
    "\n",
    "########################\n",
    "\n",
    "#Formatting of Strings \n",
    "\n",
    "#Printing using .format()\n",
    "x = \"Python\"\n",
    "version = \"3\"\n",
    "print(\"You are learning {} {}!\".format(x, version))\n",
    "\n",
    "# Positional Formatting \n",
    "x , y , z = \"Python\", \"cool\", \"is\"\n",
    "print(\"{0} {2} {1}!\".format(x, y, z))\n",
    "\n",
    "# String alignment \n",
    "print(\"\\nLeft, center and right alignment with Formatting: \") \n",
    "print(\"|{:<10}|{:^20}|{:>10}|\".format('Python','is','Cool'))\n",
    "\n",
    "#Rounding off floats, changing representation\n",
    "print(\"Rounding off float to 2 decimal places : {:.2f}\".format(322.5657), \"\\n Exponential representation of float : {:e}\".format(2000000000000000))\n"
   ]
  },
  {
   "cell_type": "markdown",
   "metadata": {},
   "source": [
    "### <span id=\"operators\"> Operators </span>"
   ]
  },
  {
   "cell_type": "code",
   "execution_count": 8,
   "metadata": {},
   "outputs": [
    {
     "name": "stdout",
     "output_type": "stream",
     "text": [
      "Arithmetic operators\n",
      "Addition      :  17\n",
      "Subtraction   :  7\n",
      "Multplication :  60\n",
      "Division      :  2.4\n",
      "Exponentiation:  248832\n",
      "Floor Division:  2\n",
      "\n",
      "Comparison operators : \n",
      "Equal Comparator                :  False\n",
      "Not EqualTo Comparator          :  True\n",
      "Greator Than Comparator         :  True\n",
      "Smaller Than Comparator         :  False\n",
      "Greater Than Equalto Comparator :  True\n",
      "Smaller Than Equalto Comparator :  False\n",
      "\n",
      "Logical Operators : \n",
      "and False\n",
      "or  False\n",
      "not True\n",
      "\n",
      "Identity Operators : \n",
      "False\n",
      "True\n",
      "True\n",
      "False\n",
      "\n",
      "Membership Operators : \n",
      "in operator example     :  True\n",
      "not in operator example :  False\n",
      "\n",
      "BitWise Operators : \n",
      "COMPLEMENT(~) Operator :  -13\n",
      "AND(&) Operator :  12\n",
      "OR (|) Operator :  13\n",
      "XOR(^) Operator :  1\n",
      "LEFT SHIFT Operator  :  98304\n",
      "RIGHT SHIFT Operator :  0\n"
     ]
    }
   ],
   "source": [
    "#Arithmetic operators : +, -, *, /, **, //\n",
    "print(\"Arithmetic operators\")\n",
    "x , y = 12 , 5\n",
    "print(\"Addition      : \", x+y)\n",
    "print(\"Subtraction   : \", x-y)\n",
    "print(\"Multplication : \", x*y)\n",
    "print(\"Division      : \", x/y)\n",
    "print(\"Exponentiation: \", x**y)\n",
    "print(\"Floor Division: \", x//y)\n",
    "\n",
    "#Comparison Operators : ==, !=, <, >, <=, >=         #Result can be True, False \n",
    "print(\"\\nComparison operators : \")\n",
    "print(\"Equal Comparator                : \", x == y)\n",
    "print(\"Not EqualTo Comparator          : \", x != y)\n",
    "print(\"Greator Than Comparator         : \", x > y)\n",
    "print(\"Smaller Than Comparator         : \", x < y)\n",
    "print(\"Greater Than Equalto Comparator : \", x >= y)\n",
    "print(\"Smaller Than Equalto Comparator : \", x <= y)\n",
    "\n",
    "#Logical Operators : and, or, not\n",
    "print(\"\\nLogical Operators : \")\n",
    "print(\"and\", x < 12 and y < 12)\n",
    "print(\"or \", x < 12 and y < 12)\n",
    "print(\"not\", not x < 12)\n",
    "\n",
    "#Identity Operators : is, is not\n",
    "print(\"\\nIdentity Operators : \")\n",
    "#is operator returns True When both variables are same object\n",
    "x = [\"python\"]\n",
    "y = [\"python\"]\n",
    "print(x is y)      # This returns False because both objects are different.\n",
    "print(x is not y)  # This returns True because both objects are different.\n",
    "\n",
    "x = y\n",
    "print(x is y)      # This returns true because now both variables are the same objects.\n",
    "print(x is not y)  # This can be considered as negation of is operator.\n",
    "\n",
    "#Membership Operators : in, not in\n",
    "#Returns true if specified value in object\n",
    "print(\"\\nMembership Operators : \")\n",
    "x = \"python\"\n",
    "y = [\"python\", \"programming\", \"language\"]\n",
    "print(\"in operator example     : \", x in y)      # Returns True as x is present in the iterable(a object that can be iterate over) y \n",
    "print(\"not in operator example : \", x not in y)  # Returns False (negation of above)\n",
    "\n",
    "#BitWise Operators\n",
    "#Complement(~) , AND(&), OR(|), XOR(^), LEFT SHIFT(<<), Right Shift(>>)\n",
    "print(\"\\nBitWise Operators : \")\n",
    "x = 12\n",
    "print(\"COMPLEMENT(~) Operator : \", ~x)  # Returns -13S\n",
    "#binary representation of 12 :  00001100 \n",
    "#now, negation will of 1100 is  11110011 \n",
    "#binary representation of 13 :  00001101\n",
    "#i.e. 2's complement of a number represents a negative number  \n",
    "#2's complement of 13 L 11110011 i.e. -13 \n",
    "print(\"AND(&) Operator : \", 12 & 13)\n",
    "print(\"OR (|) Operator : \", 12 | 13)\n",
    "print(\"XOR(^) Operator : \", 12 ^ 13)\n",
    "print(\"LEFT SHIFT Operator  : \", 12 << 13)\n",
    "print(\"RIGHT SHIFT Operator : \", 12 >> 13)\n"
   ]
  },
  {
   "cell_type": "markdown",
   "metadata": {},
   "source": [
    "### <span id=\"lists\"> Lists </span>"
   ]
  },
  {
   "cell_type": "markdown",
   "metadata": {},
   "source": [
    "It is a ordered and  mutable collection of values(items). <br>\n",
    "Written as a list of comma-separated list of values, between square[] brackets and \n",
    "Can contain values of different types "
   ]
  },
  {
   "cell_type": "code",
   "execution_count": 9,
   "metadata": {},
   "outputs": [
    {
     "name": "stdout",
     "output_type": "stream",
     "text": [
      "[1, 2, 3, 4, 'Python']\n",
      "Hello\n",
      "['Hello', 2, 3, 4, 'Python']\n"
     ]
    }
   ],
   "source": [
    "l = [1, 2, 3, 4]  # A list of integers\n",
    "l = [1, 2, 3, 4, \"Python\"] # Can contain values(items) of different types\n",
    "print(l)\n",
    "l[0] = 'Hello' # List can be updated by using index (list starts from 0th index)\n",
    "print(l[0])\n",
    "print(l)"
   ]
  },
  {
   "cell_type": "code",
   "execution_count": 10,
   "metadata": {},
   "outputs": [
    {
     "name": "stdout",
     "output_type": "stream",
     "text": [
      "[1, 2, 3, 4, 10]\n",
      "[1, 4, 2, 3, 4, 10]\n",
      "[1, 2, 3, 4, 10]\n",
      "[1, 2, 4, 10]\n",
      "[]\n",
      "[2, 3]\n",
      "[3]\n",
      "['Hello', 'World']\n",
      "[1, 'World']\n"
     ]
    }
   ],
   "source": [
    "l = [1, 2, 3, 4]\n",
    "l.append(10) #Appends an element at the end of the list\n",
    "print(l)\n",
    "l.insert(1,4) #Appends an elemnet at the specified location, shift the element to the right\n",
    "print(l)\n",
    "l.remove(4) #Removes the first occurence of the value\n",
    "print(l)\n",
    "l.pop(2) #Removes the element from the specified location(index).\n",
    "print(l)\n",
    "l.clear() #Empties the list\n",
    "print(l)\n",
    "\n",
    "l.append(2) #inserting value 2 at the end.\n",
    "l.append(3)\n",
    "print(l)\n",
    "del l[0] #Removes the specfied element.\n",
    "print(l)\n",
    "del l #Deletes the entire list\n",
    "\n",
    "\n",
    "l = [\"Hello\", \"World\"]\n",
    "l2 = l #This does not copies a list l to l2, instead l2 is just a refrence to l\n",
    "#i.e. changes made to any list will also be reflected to another\n",
    "print(l)\n",
    "l2[0] = 1\n",
    "print(l)"
   ]
  },
  {
   "cell_type": "markdown",
   "metadata": {},
   "source": [
    "Reference:<br>\n",
    "* __copy()    ______   Returns a copy of the list<br>\n",
    "* __count()   ______   Returns the number of elements with the specified value<br>\n",
    "* __extend()  ______   Add the elements of a list (or any iterable), to the end of the current list<br>\n",
    "* __index()   ______   Returns the index of the first element with the specified value<br>\n",
    "* __insert()  ______   Adds an element at the specified position<br>\n",
    "* __pop()     ______   Removes the element at the specified position<br>\n",
    "* __remove()  ______   Removes the item with the specified value<br>\n",
    "* __reverse() ______   Reverses the order of the list<br>\n",
    "* __sort()    ______   Sorts the list<br>"
   ]
  },
  {
   "cell_type": "markdown",
   "metadata": {},
   "source": [
    "insert, append, remove, pop, sort<br>\n",
    "reverse, index, extend, copy, count"
   ]
  },
  {
   "cell_type": "markdown",
   "metadata": {},
   "source": [
    "### <span id=\"tuples\"> Tuples </span>"
   ]
  },
  {
   "cell_type": "markdown",
   "metadata": {},
   "source": [
    "It is an ordered and unmutable collection of items."
   ]
  },
  {
   "cell_type": "code",
   "execution_count": 11,
   "metadata": {},
   "outputs": [],
   "source": [
    "t = (1, \"Hello\")"
   ]
  },
  {
   "cell_type": "code",
   "execution_count": 12,
   "metadata": {},
   "outputs": [
    {
     "ename": "TypeError",
     "evalue": "'tuple' object does not support item assignment",
     "output_type": "error",
     "traceback": [
      "\u001b[1;31m---------------------------------------------------------------------------\u001b[0m",
      "\u001b[1;31mTypeError\u001b[0m                                 Traceback (most recent call last)",
      "\u001b[1;32m<ipython-input-12-e84f3c5131b3>\u001b[0m in \u001b[0;36m<module>\u001b[1;34m\u001b[0m\n\u001b[1;32m----> 1\u001b[1;33m \u001b[0mt\u001b[0m\u001b[1;33m[\u001b[0m\u001b[1;36m0\u001b[0m\u001b[1;33m]\u001b[0m \u001b[1;33m=\u001b[0m \u001b[1;36m2\u001b[0m \u001b[1;31m# throws error as, it is unmutable\u001b[0m\u001b[1;33m\u001b[0m\u001b[1;33m\u001b[0m\u001b[0m\n\u001b[0m",
      "\u001b[1;31mTypeError\u001b[0m: 'tuple' object does not support item assignment"
     ]
    }
   ],
   "source": [
    "t[0] = 2 # throws error as, it is unmutable"
   ]
  },
  {
   "cell_type": "code",
   "execution_count": 13,
   "metadata": {},
   "outputs": [
    {
     "data": {
      "text/plain": [
       "(1, 2, 3)"
      ]
     },
     "execution_count": 13,
     "metadata": {},
     "output_type": "execute_result"
    }
   ],
   "source": [
    "l = tuple([1, 2, 3])\n",
    "l"
   ]
  },
  {
   "cell_type": "markdown",
   "metadata": {},
   "source": [
    "* __count() _____ count of the number of occurences of given item. <br>\n",
    "* __index() _____ Returns index of the first occurence of the given item. <br>"
   ]
  },
  {
   "cell_type": "markdown",
   "metadata": {},
   "source": [
    "### <span id=\"sets\"> Sets </span>\n",
    "Unordered Collection of elements, mutable , unindexed and contain no duplicates."
   ]
  },
  {
   "cell_type": "code",
   "execution_count": 14,
   "metadata": {},
   "outputs": [
    {
     "name": "stdout",
     "output_type": "stream",
     "text": [
      "{1, 2, 3}\n"
     ]
    }
   ],
   "source": [
    "s = {1, 2, 3, 3} #Initializing a set\n",
    "print(s) #It will remove the duplicate items and only retain one occurence of each item(value)."
   ]
  },
  {
   "cell_type": "code",
   "execution_count": 15,
   "metadata": {},
   "outputs": [
    {
     "ename": "TypeError",
     "evalue": "'set' object does not support item assignment",
     "output_type": "error",
     "traceback": [
      "\u001b[1;31m---------------------------------------------------------------------------\u001b[0m",
      "\u001b[1;31mTypeError\u001b[0m                                 Traceback (most recent call last)",
      "\u001b[1;32m<ipython-input-15-c15dd254247e>\u001b[0m in \u001b[0;36m<module>\u001b[1;34m\u001b[0m\n\u001b[1;32m----> 1\u001b[1;33m \u001b[0ms\u001b[0m\u001b[1;33m[\u001b[0m\u001b[1;36m0\u001b[0m\u001b[1;33m]\u001b[0m \u001b[1;33m=\u001b[0m \u001b[1;36m4\u001b[0m \u001b[1;31m#Cannot change the existing items also, cannot be accessed as index.\u001b[0m\u001b[1;33m\u001b[0m\u001b[1;33m\u001b[0m\u001b[0m\n\u001b[0m",
      "\u001b[1;31mTypeError\u001b[0m: 'set' object does not support item assignment"
     ]
    }
   ],
   "source": [
    "s[0] = 4 #Cannot change the existing items also, cannot be accessed as index."
   ]
  },
  {
   "cell_type": "code",
   "execution_count": 16,
   "metadata": {},
   "outputs": [
    {
     "name": "stdout",
     "output_type": "stream",
     "text": [
      "{1, 2, 3, 5}\n",
      "{1, 2, 3}\n",
      "{1, 2, 3}\n"
     ]
    },
    {
     "data": {
      "text/plain": [
       "1"
      ]
     },
     "execution_count": 16,
     "metadata": {},
     "output_type": "execute_result"
    }
   ],
   "source": [
    "s.add(5) #adds element to the last\n",
    "print(s)\n",
    "\n",
    "s.remove(5) #Removes the item from the set, if exists otherwise throws an error \n",
    "print(s)\n",
    "\n",
    "s.discard(6) #Same as remove method, but will not throw error if the item is not present in the set\n",
    "#s.remove(6) #this will throw an KeyError exception\n",
    "print(s)\n",
    "\n",
    "s.pop() #Removes an item from the set."
   ]
  },
  {
   "cell_type": "markdown",
   "metadata": {},
   "source": [
    "### <span id=\"dictionaries\"> Dictionaries </span> \n",
    "Unordered collection of items. It consists of key value pairs. "
   ]
  },
  {
   "cell_type": "code",
   "execution_count": 17,
   "metadata": {},
   "outputs": [],
   "source": [
    "d = {\"Language\" : \"Python\", \"Type\" : \"Interpreted\", \"TIOBE_RANKING\" : 3 }"
   ]
  },
  {
   "cell_type": "code",
   "execution_count": 18,
   "metadata": {},
   "outputs": [
    {
     "name": "stdout",
     "output_type": "stream",
     "text": [
      "dict_keys(['Language', 'Type', 'TIOBE_RANKING'])\n",
      "dict_values(['Python', 'Interpreted', 3])\n",
      "dict_items([('Language', 'Python'), ('Type', 'Interpreted'), ('TIOBE_RANKING', 3)])\n",
      "Key : Language  Value : Python\n",
      "Key : Type  Value : Interpreted\n",
      "Key : TIOBE_RANKING  Value : 3\n",
      "Python\n",
      "None\n",
      "{'Language': 'C++', 'Type': 'Compiled', 'TIOBE_RANKING': None}\n",
      "True\n",
      "{'Language': 'C++', 'Type': 'Compiled', 'TIOBE_RANKING': None}\n",
      "{}\n"
     ]
    },
    {
     "data": {
      "text/plain": [
       "{'Language': 'Java', 'Type': 'Compiled'}"
      ]
     },
     "execution_count": 18,
     "metadata": {},
     "output_type": "execute_result"
    }
   ],
   "source": [
    "print(d.keys()) #Returns the keys of the dictionary\n",
    "print(d.values()) #Returns the values of the dictionary\n",
    "print(d.items()) #Returns a items in dictionary as(key,value) in a list.\n",
    "\n",
    "#Looping through a dictionary\n",
    "for i, j in d.items():\n",
    "    print(\"Key : {}  Value : {}\".format(i,j))\n",
    "    \n",
    "#Accessing a dictionary\n",
    "print(d[\"Language\"]) #Returns the value for the specified key\n",
    "#d[\"Sex\"] #This will throw KeyError exception, if key is not present in the dictionary\n",
    "v_sex = d.get(\"Sex\") #This will not throw an Exception.\n",
    "print(v_sex)\n",
    "\n",
    "#Value Can be changed\n",
    "d[\"Language\"] = \"C++\"\n",
    "d[\"Type\"] = \"Compiled\"\n",
    "d[\"TIOBE_RANKING\"] = None\n",
    "\n",
    "print(d)\n",
    "\n",
    "#Removing a specified key from the dictionary\n",
    "#d.pop(\"TIOBE_RANKING\") #Removes the specified key from the dictionary\n",
    "#del d[\"TIOBE_RANKING\"] #Removes specified key from the dictionary\n",
    "#del d #Deletes the complete dictionary\n",
    "#d.popitem() # Removes the last added key from the dictionary, and also returns the removed key\n",
    "\n",
    "print(\"Language\" in d) #Check's if the key is present in the dictionary or not \n",
    "\n",
    "d1 = d.copy() #Creates copy of a dictionary\n",
    "print(d1)\n",
    "d1.clear() #Empties the dictionary\n",
    "print(d1)\n",
    "\n",
    "dict(Language='Java', Type='Compiled')"
   ]
  },
  {
   "cell_type": "markdown",
   "metadata": {},
   "source": [
    "### <span id=\"ifelse\"> If Else </span>"
   ]
  },
  {
   "cell_type": "code",
   "execution_count": 19,
   "metadata": {},
   "outputs": [
    {
     "name": "stdout",
     "output_type": "stream",
     "text": [
      "B is greater\n",
      "B is greater\n"
     ]
    }
   ],
   "source": [
    "a, b = 1, 2\n",
    "if a > b:\n",
    "    print(\"A is greater\")\n",
    "elif a == b:\n",
    "    print(\"Both are equal\")\n",
    "else:\n",
    "    print(\"B is greater\")\n",
    "    \n",
    "    \n",
    "#Single line if..elif..else\n",
    "print(\"A is greater\") if a > b else print(\"B is greater\") if b > a else print(\"Both are equal\")\n"
   ]
  },
  {
   "cell_type": "markdown",
   "metadata": {},
   "source": [
    "### <span id=\"loops\"> Loops </span>"
   ]
  },
  {
   "cell_type": "code",
   "execution_count": 20,
   "metadata": {},
   "outputs": [
    {
     "name": "stdout",
     "output_type": "stream",
     "text": [
      "While Loop Example...\n",
      "1\n",
      "2\n",
      "3\n",
      "4\n",
      "6\n",
      "For Loop Example...\n",
      "0\n",
      "1\n",
      "2\n",
      "3\n",
      "4\n",
      "5\n",
      "6\n",
      "7\n",
      "8\n",
      "9\n",
      "For Loop with else...\n",
      "0\n",
      "1\n",
      "2\n",
      "3\n",
      "4\n",
      "Loop Finished\n",
      "For loop over a list...\n",
      "A B C D "
     ]
    }
   ],
   "source": [
    "\n",
    "print(\"While Loop Example...\")\n",
    "#While Loop, executes til the condition satisfies\n",
    "a = 0\n",
    "while a < 10:\n",
    "    a += 1\n",
    "    if a == 5: continue  #skip the statements after this , when the condition is true\n",
    "    if a == 7: break     #exits the loop\n",
    "    print(a)\n",
    "    \n",
    "print(\"For Loop Example...\")\n",
    "#For Loop,\n",
    "a = 10\n",
    "for each in range(a):\n",
    "    print(each)\n",
    "#print(list(range(a)))\n",
    "\n",
    "print(\"For Loop with else...\")\n",
    "a = 5\n",
    "for i in range(a):\n",
    "    print(i)\n",
    "else:\n",
    "    print(\"Loop Finished\")\n",
    "    \n",
    "print(\"For loop over a list...\")\n",
    "letters = [\"A\", \"B\", \"C\", \"D\"]\n",
    "for each in letters:\n",
    "    print(each, end=\" \")     #bonus : print function also have end parameter, by default end = newline character"
   ]
  },
  {
   "cell_type": "markdown",
   "metadata": {},
   "source": [
    "### <span id=\"functions\"> Functions </span> "
   ]
  },
  {
   "cell_type": "code",
   "execution_count": 3,
   "metadata": {},
   "outputs": [
    {
     "name": "stdout",
     "output_type": "stream",
     "text": [
      "Function Called\n",
      "Value Passed : 10\n",
      "Value Passed : 10\n",
      "0\n",
      "1\n",
      "2\n",
      "3\n",
      "4\n",
      "5\n",
      "6\n",
      "7\n",
      "8\n",
      "9\n"
     ]
    }
   ],
   "source": [
    "#Functions are declared by using def keyword\n",
    "def func():                   #Simple Function\n",
    "    print(\"Function Called\")\n",
    "\n",
    "func()\n",
    "\n",
    "def func(a):                  #Arguments\n",
    "    print(\"Value Passed : {}\".format(a)) \n",
    "    \n",
    "func(10)\n",
    "#func() #this will throw an error , because it excepts a single parameter\n",
    "\n",
    "def func(a = 10):             #Argument with default value\n",
    "    print(\"Value Passed : {}\".format(a))\n",
    "\n",
    "func()\n",
    "\n",
    "#Recursive function (A function that calls itself)\n",
    "def recurr_func(a = 0): # Here, we are increasing the value of a with each call to the function itself. \n",
    "    print(a)\n",
    "    a += 1\n",
    "    if a < 10: recurr_func(a)\n",
    "\n",
    "recurr_func()\n",
    "#Note, it is necessary to provide a terminate condition when using recursion otherwise, the function will kept calling itself recursively indefinitely.\n",
    "\n"
   ]
  },
  {
   "cell_type": "code",
   "execution_count": 4,
   "metadata": {},
   "outputs": [],
   "source": [
    "#A function have a special var\n",
    "recurr_func.__doc__"
   ]
  },
  {
   "cell_type": "markdown",
   "metadata": {},
   "source": [
    "#### <span id=\"lambda\"> Lambda Function </span>\n",
    "An Anonymous Function (also known as single line functions) <br> __Syntax__ <br> <p style=\"border:1px solid black; padding:5px; border-collapse:collapse;\">lambda Arguments : expression</p>"
   ]
  },
  {
   "cell_type": "code",
   "execution_count": 5,
   "metadata": {},
   "outputs": [
    {
     "data": {
      "text/plain": [
       "20"
      ]
     },
     "execution_count": 5,
     "metadata": {},
     "output_type": "execute_result"
    }
   ],
   "source": [
    "twice_of = lambda x : x * 2\n",
    "twice_of(10)"
   ]
  },
  {
   "cell_type": "code",
   "execution_count": 6,
   "metadata": {},
   "outputs": [
    {
     "data": {
      "text/plain": [
       "6"
      ]
     },
     "execution_count": 6,
     "metadata": {},
     "output_type": "execute_result"
    }
   ],
   "source": [
    "#It can take any number of arguments \n",
    "multipy_three_no = lambda x, y, z : x*y*z\n",
    "multipy_three_no(1,2,3)"
   ]
  },
  {
   "cell_type": "code",
   "execution_count": 7,
   "metadata": {},
   "outputs": [
    {
     "name": "stdout",
     "output_type": "stream",
     "text": [
      "(1, 2, 3, 4, 5)\n"
     ]
    },
    {
     "data": {
      "text/plain": [
       "[2, 4, 6, 8, 10, 12]"
      ]
     },
     "execution_count": 7,
     "metadata": {},
     "output_type": "execute_result"
    }
   ],
   "source": [
    "#Let's learn a new feature of list upacking and packing of arguments\n",
    "#Suppose we don't know the number of arguments, then prefixing * will pack all the arguments into a tuple \n",
    "def func(*args):\n",
    "    print(args)    #This will return all the arguments in a tuple asigned to a varibale args.\n",
    "func(1, 2, 3, 4, 5)\n",
    "\n",
    "#Let's use this in lambda function with list comprehension\n",
    "#A function that will multiple all the numbers by 2 and return the result in a list.\n",
    "\n",
    "multiply_by_2 = lambda *x : [each*2 for each in x]\n",
    "multiply_by_2(1, 2, 3, 4)  #we can pass any number of arguments\n",
    "multiply_by_2(1, 2, 3, 4, 5, 6)\n"
   ]
  },
  {
   "cell_type": "markdown",
   "metadata": {},
   "source": [
    "Functional Programming<br>\n",
    "Procedure Oriented Programming<br>\n",
    "Object Oriented Programming<br>\n"
   ]
  },
  {
   "cell_type": "markdown",
   "metadata": {},
   "source": [
    "### Type Conversion"
   ]
  },
  {
   "cell_type": "code",
   "execution_count": 8,
   "metadata": {},
   "outputs": [
    {
     "data": {
      "text/plain": [
       "(1+1j)"
      ]
     },
     "execution_count": 8,
     "metadata": {},
     "output_type": "execute_result"
    }
   ],
   "source": [
    "#Python is an object-orientated language, and as such it uses classes to define data types, including its primitive types.\n",
    "#Can use int() , float(), str() , list(), tuple(), dict() , str()\n",
    "x, y = 1, 1\n",
    "c = complex(x,y)\n",
    "c"
   ]
  },
  {
   "cell_type": "markdown",
   "metadata": {},
   "source": [
    "### External Resources:\n",
    "\n",
    "* <a href=\"https://sahandsaba.com/thirty-python-language-features-and-tricks-you-may-not-know.html\">30 Python Language Features and Tricks You May Not Know About</a>\n",
    "* <a href=\"https://www.python.org/dev/peps/pep-0008/\">Naming Conventions PEP(Python Enhancement Proposal)-8</a>\n",
    "* <a href=\"https://www.hackerrank.com/domains/python\">HackerRank Python series</a> "
   ]
  },
  {
   "cell_type": "markdown",
   "metadata": {},
   "source": [
    "__Some Built-in Functions__: <br>\n",
    "hash<br> \n",
    "eval<br>\n",
    "set<br>\n",
    "sorted<br>\n",
    "reversed<br>\n",
    "dir<br>\n",
    "mro<br>\n",
    "map<br>\n",
    "filter<br>"
   ]
  },
  {
   "cell_type": "markdown",
   "metadata": {},
   "source": [
    "__How to add navigation bar to jupyter notebook__ <br>\n",
    "https://github.com/shoval/jupyter-navbar"
   ]
  },
  {
   "cell_type": "code",
   "execution_count": null,
   "metadata": {},
   "outputs": [],
   "source": []
  }
 ],
 "metadata": {
  "kernelspec": {
   "display_name": "Python 3",
   "language": "python",
   "name": "python3"
  },
  "language_info": {
   "codemirror_mode": {
    "name": "ipython",
    "version": 3
   },
   "file_extension": ".py",
   "mimetype": "text/x-python",
   "name": "python",
   "nbconvert_exporter": "python",
   "pygments_lexer": "ipython3",
   "version": "3.7.4"
  }
 },
 "nbformat": 4,
 "nbformat_minor": 2
}
