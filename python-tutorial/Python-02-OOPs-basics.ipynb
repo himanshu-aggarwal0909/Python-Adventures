{
 "cells": [
  {
   "cell_type": "markdown",
   "metadata": {},
   "source": [
    "# <p style=\"border:1px solid black; padding:20px\">Object Oriented Programming(OOPs) in Python</p>"
   ]
  },
  {
   "cell_type": "markdown",
   "metadata": {},
   "source": [
    "It is a programming paradigm that bundles up the attributes and behaviours into objects. <br>\n",
    "It is an approach for modelling real-world objects into a code.<br>\n",
    "The concept of OOP in Python focuses on creating reusable code. This concept is also known as DRY (Don't Repeat Yourself)."
   ]
  },
  {
   "cell_type": "markdown",
   "metadata": {},
   "source": [
    "__Principles of OOPs in python:__\n",
    "<table>\n",
    "    <tr><td><i>Classes</i></td><td><p>It is a collection of objects.But, we can also descibe it as the blueprint for the objects that contains some attributes and methods to define the objects.</p></td></tr>\n",
    "    <tr><td>Objects</td><td><p>It is an instantiation of the class and it is a copy of a class with actual values.</p></td></tr>\n",
    "    <tr><td><i>Methods</i></td><td><p>Functions in classes are known as methods. They are associated with objects.</p></td></tr>\n",
    "<tr><td><i>Encapsulation</i></td> <td><p>Wrapping data members and functions into a single unit is known as encapsulation.<br> \n",
    " It refers to hiding the state of the structered object into a class and only providing the access to those data members that are needed also known as data hiding.<br></p></td></tr>\n",
    "    <tr><td><i>Abstraction</i></td><td><p>It refers to providing only the essential details and hiding all the background details. e.g. When we drive the car , we are exposed to it's iterface and rest all the internal working is lying under the hood. We only care about the operation of the interface not the internal working.</p></td></tr>\n",
    "    <tr><td><i>Polymorphism</i></td><td><p>One task can be performed in different ways.</p></td></tr>\n",
    "    <tr><td><i>Inheritance</i></td><td><p>The transfer of characterstics from a class to other classes that are derived from it.</p></td></tr>\n",
    "    </table>\n",
    " </html>"
   ]
  },
  {
   "cell_type": "markdown",
   "metadata": {},
   "source": [
    "## Defining a class"
   ]
  },
  {
   "cell_type": "markdown",
   "metadata": {},
   "source": [
    "As mentioned above, OOPs models with the real world objects.<br>\n",
    "__for e.g.__ <BR>\n",
    "Now, let's model a Dog with a class(blueprint for any object related to dog). <br>\n",
    "For Attributes, dog is described by breed, color, height. <br>\n",
    "For Methods, dog can walk, bark and eat. "
   ]
  },
  {
   "cell_type": "code",
   "execution_count": 153,
   "metadata": {},
   "outputs": [],
   "source": [
    "class Dog: #Defining a Class\n",
    "    def __init__(self, breed, color, height):  #Constructor of a class (called every time an object is instantiated) \n",
    "        self.breed = breed\n",
    "        self.color = color\n",
    "        self.height = height\n",
    "    \n",
    "    def bark(self):\n",
    "        \"Barked\"\n",
    "        print(\"I am barking\")\n",
    "    \n",
    "    def walk(self):\n",
    "        print(\"I am Walking ~/\\::/\\\\<\")\n",
    "    \n",
    "    def eat(self, dish=\"bone\"):\n",
    "        print(\"I am eating \" + str(dish))\n",
    "    \n",
    "    def __repr__(self): #Represents the object \n",
    "        return \"Breed : \" + str(self.breed) + \"\\nColor : \" + str(self.color) + \"\\nHeight : \" + str(self.height)\n"
   ]
  },
  {
   "cell_type": "code",
   "execution_count": 154,
   "metadata": {},
   "outputs": [
    {
     "name": "stdout",
     "output_type": "stream",
     "text": [
      "I am Walking ~/\\::/\\<\n",
      "I am eating chicken\n"
     ]
    },
    {
     "data": {
      "text/plain": [
       "Breed : labra\n",
       "Color : Black\n",
       "Height : 4.5"
      ]
     },
     "execution_count": 154,
     "metadata": {},
     "output_type": "execute_result"
    }
   ],
   "source": [
    "d = Dog(\"labra\", \"Black\", \"4.5\")\n",
    "d.walk() \n",
    "d.eat(\"chicken\")\n",
    "d #Returns the output   "
   ]
  },
  {
   "cell_type": "markdown",
   "metadata": {},
   "source": [
    "#Every Function have a doc string at the start of the function and can be accessed \n",
    "d.bark.__doc__"
   ]
  },
  {
   "cell_type": "markdown",
   "metadata": {},
   "source": [
    "## Inheritance"
   ]
  },
  {
   "cell_type": "markdown",
   "metadata": {},
   "source": [
    "It allows a class to inherit methods and attributes from another (base) class. \n",
    "It specifies that the child object acquires all the properties and behaviors of the parent object.<br>\n",
    "The class from which properties are inherited is known as Base Class.<br>\n",
    "The class that inherits properties from the base class is known as Derived Class."
   ]
  },
  {
   "cell_type": "code",
   "execution_count": 163,
   "metadata": {},
   "outputs": [],
   "source": [
    "#e.g.\n",
    "\n",
    "class A:\n",
    "    \n",
    "    def foo(self):\n",
    "        print(\"Hello! I am foo from class A.\")\n",
    "        \n",
    "    def bar(self):\n",
    "        print(\"Hello! I am bar from class A.\")\n",
    "\n",
    "class B(A):  #Inherits class A\n",
    "    \n",
    "    def foo(self):\n",
    "        print(\"Hello! I am foo from class B.\")\n"
   ]
  },
  {
   "cell_type": "code",
   "execution_count": 164,
   "metadata": {},
   "outputs": [
    {
     "name": "stdout",
     "output_type": "stream",
     "text": [
      "Hello! I am foo from class B.\n",
      "Hello! I am bar from class A.\n"
     ]
    }
   ],
   "source": [
    "obj_b = B()\n",
    "obj_b.foo() #We already have function foo in class B. So, class B function will be called.\n",
    "obj_b.bar() #As, the base class B doesn't have function bar but, it inherits the class A So, class A bar funtion will be called."
   ]
  },
  {
   "cell_type": "code",
   "execution_count": 165,
   "metadata": {},
   "outputs": [
    {
     "data": {
      "text/plain": [
       "(__main__.B, __main__.A, object)"
      ]
     },
     "execution_count": 165,
     "metadata": {},
     "output_type": "execute_result"
    }
   ],
   "source": [
    "B.__mro__ #Returns "
   ]
  },
  {
   "cell_type": "markdown",
   "metadata": {},
   "source": [
    "### Overriding a base class method"
   ]
  },
  {
   "cell_type": "markdown",
   "metadata": {},
   "source": [
    "In the above example ,  class B inherites class A and we have overridden the function foo of class A. "
   ]
  },
  {
   "cell_type": "markdown",
   "metadata": {},
   "source": [
    "### Multiple Inheritance\n",
    "A single class can be inherited from more than one class."
   ]
  },
  {
   "cell_type": "code",
   "execution_count": 166,
   "metadata": {},
   "outputs": [],
   "source": [
    "# We will continue with the same above example. \n",
    "#Now, there will be a class C which will inherit class A and B. \n",
    "\n",
    "class A:\n",
    "    \n",
    "    def foo(self):\n",
    "        print(\"Hello! I am foo from class A.\")\n",
    "        \n",
    "    def bar(self):\n",
    "        print(\"Hello! I am bar from class A.\")\n",
    "\n",
    "class B:\n",
    "    \n",
    "    def foo(self):\n",
    "        print(\"Hello! I am foo from class B.\")\n",
    "        \n",
    "class C(A, B):\n",
    "    pass\n"
   ]
  },
  {
   "cell_type": "code",
   "execution_count": 167,
   "metadata": {},
   "outputs": [
    {
     "name": "stdout",
     "output_type": "stream",
     "text": [
      "Hello! I am foo from class A.\n"
     ]
    }
   ],
   "source": [
    "obj_c = C()\n",
    "#Now, class C inherits both the classes A and B. \n",
    "#Both class A and B, have function foo. So, when we instantiate a object of class C and called foo function.\n",
    "#Which class(A or B) foo's function will be called.\n",
    "obj_c.foo() "
   ]
  },
  {
   "cell_type": "markdown",
   "metadata": {},
   "source": [
    "How to decide the order of the function inherited, in case of multiple inheritance?? <br>\n",
    "i.e. How, in case of above example how it is decided to call the foo function of class A and not the foo function of class B.<br>\n",
    "C3 superclass linearization is an algorithm used primarily to obtain the order in which <br>\n",
    "methods should be inherited in the presence of multiple inheritance. <br>\n",
    "[C3 Linearization Algorithm](https://en.wikipedia.org/wiki/C3_linearization)"
   ]
  },
  {
   "cell_type": "markdown",
   "metadata": {},
   "source": [
    "\n",
    "<table style=\"border:1px solid black;border-collapse:collapse\">\n",
    "    <tr> <td style=\"text-align:left\"> <b> __class__ </b>  </td> <td style=\"text-align:left;padding:10px;text-width:2px\"> Returns the class of the instance. </td> </tr>\n",
    "    <tr> <td style=\"text-align:left\"> <b> __bases__ </b>  </td> <td style=\"text-align:left;padding:10px;text-width:2px\"> Returns a tuple containing all the classes from which the class is inherited. </td> </tr>\n",
    "    <tr> <td> <b> __subclasses__() </b>  </td> <td style=\"text-align:left;padding:10px;text-width:2px\"> Returns a list containing all the subclasses. </td> </tr>\n",
    "    <tr> <td style=\"text-align:left\"> <b> dir() </b>  </td> <td style=\"text-align:left;padding:10px;text-width:2px\"> dir functions will return a list of every method and attribute associated with the passed instance </td> </tr>\n",
    "    <tr> <td style=\"text-align:left\"> <b> locals() </b>  </td> <td style=\"text-align:left;padding:10px;text-width:2px\"> Display all the local variables in a dictionary with key as variable name and value as the variables value. </td> </tr>\n",
    "    <tr> <td style=\"text-align:left\"> <b> globals() </b> </td> <td style=\"text-align:left;padding:10px;text-width:2px\"> Similar to locals(), returns dictionary of all the global variables. </td> </tr>\n",
    "    <tr> <td style=\"text-align:left\"> <b> __dict__ </b> </td> <td style=\"text-align:left;padding:10px;text-width:2px\"> will return, a dictionary containing all attributes of a class instance(object). </td> </tr>\n",
    "    <tr> <td style=\"text-align:left\"> <b> __mro__ </b> </td> <td style=\"text-align:left;padding:10px;text-width:2px\"> Returns the Method Resolution Order, the order in which the methods are called. Basically, it return a tuple of it's base class and then , it's base's base class upto so on.</td> </tr>\n",
    "</table>\n",
    "    </html>\n",
    "    \n",
    "\n",
    "Python has a good number of <a href=\"https://docs.python.org/3/reference/datamodel.html#special-method-names\">Special Methods</a>."
   ]
  },
  {
   "cell_type": "markdown",
   "metadata": {},
   "source": [
    "## A Simple Example"
   ]
  },
  {
   "cell_type": "code",
   "execution_count": 168,
   "metadata": {},
   "outputs": [
    {
     "name": "stdout",
     "output_type": "stream",
     "text": [
      "_____________________________________________\n",
      "\u001b[1mLibrary Details \u001b[0m\n",
      "Name : General Public Library \n",
      "Established On : 2019-08-18 16:37:09.714302 \n",
      "_____________________________________________\n",
      "____________________\n",
      "\u001b[1mBook Details :\u001b[0m\n",
      "Title : The Secret \n",
      "Author : Rhonda Byrne \n",
      "Quantity : 10 \n",
      "Borrowers : [] \n",
      "____________________\n",
      "____________________\n",
      "\u001b[1mBook Details :\u001b[0m\n",
      "Title : The Secret \n",
      "Author : Rhonda Byrne \n",
      "Quantity : 9 \n",
      "Borrowers : ['John jenner'] \n",
      "____________________\n",
      "__________________________________________________\n",
      "\u001b[1mList of books in library General Public Library\u001b[0m\n",
      "The Secret\n",
      "__________________________________________________\n"
     ]
    }
   ],
   "source": [
    "#A simple example of basic OOPs\n",
    "\n",
    "from datetime import *\n",
    "\n",
    "class Book:\n",
    "    \n",
    "    def __init__(self, title, author):\n",
    "        self.title = title\n",
    "        self.author = author\n",
    "    \n",
    "    def __repr__(self):\n",
    "        return \"Title : {} \\n Written By : {}\".format(title, author)\n",
    "    \n",
    "    \n",
    "class LibraryBook(Book): # Inheritance\n",
    "        \n",
    "    def __init__(self, title, author, inventory):\n",
    "        super().__init__(title, author)  #Calling Super class function\n",
    "        self.inventory = inventory\n",
    "        self.borrowers = [] \n",
    "        \n",
    "    def check_out(self, client):\n",
    "        if self.inventory < 1:\n",
    "            print(\"Not Available!\")\n",
    "            return \n",
    "        self.inventory -= 1\n",
    "        self.borrowers.append(client)\n",
    "    \n",
    "    def update_inventory(self, quantity):\n",
    "        self.inventory += quantity\n",
    "    \n",
    "    def __repr__(self):#Returns the object that represents the string\n",
    "        return \"_\"*20 + \"\\n\\033[1mBook Details :\\033[0m\\nTitle : {} \\nAuthor : {} \\nQuantity : {} \\nBorrowers : {} \\n\".format(self.title, self.author, self.inventory, self.borrowers) + \"_\"*20\n",
    "        \n",
    "class Library():\n",
    "    \n",
    "    def __init__(self, name):\n",
    "        self.name = name\n",
    "        self.estb = datetime.now()\n",
    "        self.books = []\n",
    "        \n",
    "    def add_book(self, book):\n",
    "        self.books.append(book)\n",
    "    \n",
    "    def check_out(self, book, client):\n",
    "        for each in self.books:\n",
    "            if each.title == book:\n",
    "                each.check_out(client)\n",
    "                return\n",
    "        else:\n",
    "            print(\"Not Available!\") \n",
    "            \n",
    "    def list_books(self):\n",
    "        print(\"_\"*50 + \"\\n\\033[1mList of books in library {}\\033[0m\".format(self.name))\n",
    "        for i in self.books:\n",
    "            print(i.title)\n",
    "        print(\"_\"*50)\n",
    "            \n",
    "    def __repr__(self):\n",
    "        return \"_\"*45 + \"\\n\\033[1mLibrary Details \\033[0m\\nName : {} \\nEstablished On : {} \\n\".format(self.name, self.estb) + \"_\"*45\n",
    "\n",
    "library = Library(\"General Public Library\")\n",
    "print(library)\n",
    "libraryBook = LibraryBook(\"The Secret\".title(), \"Rhonda Byrne\", 10)\n",
    "print(libraryBook)\n",
    "library.add_book(libraryBook)\n",
    "library.check_out(\"The secret\".title(), \"John jenner\")\n",
    "print(libraryBook)\n",
    "library.list_books()     "
   ]
  },
  {
   "cell_type": "markdown",
   "metadata": {},
   "source": [
    "__Resources:__<br>\n",
    "    <a href=\"https://www.youtube.com/watch?v=ECMSnU9ilbQ\">CS50 Object Oriented Programming</a>\n",
    "    "
   ]
  }
 ],
 "metadata": {
  "kernelspec": {
   "display_name": "Python 3",
   "language": "python",
   "name": "python3"
  },
  "language_info": {
   "codemirror_mode": {
    "name": "ipython",
    "version": 3
   },
   "file_extension": ".py",
   "mimetype": "text/x-python",
   "name": "python",
   "nbconvert_exporter": "python",
   "pygments_lexer": "ipython3",
   "version": "3.7.4"
  }
 },
 "nbformat": 4,
 "nbformat_minor": 2
}
