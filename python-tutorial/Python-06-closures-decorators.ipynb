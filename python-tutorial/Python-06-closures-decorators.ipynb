{
 "cells": [
  {
   "cell_type": "markdown",
   "metadata": {},
   "source": [
    "## First-Class Functions"
   ]
  },
  {
   "cell_type": "markdown",
   "metadata": {},
   "source": [
    "Python treats everything as objects.<br>\n",
    "So, it supports the concept of first class functions.<br>\n",
    "It treats the function as a first class objects i.e which will be handled uniformly.<br>"
   ]
  },
  {
   "cell_type": "markdown",
   "metadata": {},
   "source": [
    "__Some Properties__\n",
    "* It can be stored in a variable\n",
    "* It can be passed as a argument\n",
    "* Return function from another function"
   ]
  },
  {
   "cell_type": "code",
   "execution_count": 18,
   "metadata": {},
   "outputs": [
    {
     "data": {
      "text/plain": [
       "'Hello World!'"
      ]
     },
     "execution_count": 18,
     "metadata": {},
     "output_type": "execute_result"
    }
   ],
   "source": [
    "#It can be stored in a variable\n",
    "def func():\n",
    "    return \"Hello World!\"\n",
    "\n",
    "var = func()  #Assigning a function to the variable var\n",
    "var"
   ]
  },
  {
   "cell_type": "code",
   "execution_count": 19,
   "metadata": {},
   "outputs": [
    {
     "data": {
      "text/plain": [
       "'hello World'"
      ]
     },
     "execution_count": 19,
     "metadata": {},
     "output_type": "execute_result"
    }
   ],
   "source": [
    "#It can be passed as a argument\n",
    "#Return function from another function\n",
    "\n",
    "def func(arg):\n",
    "    return arg\n",
    "\n",
    "def func2(func):\n",
    "    return func #Returning a function from another function\n",
    "\n",
    "func2(func(\"hello World\")) #Passing function to another function"
   ]
  },
  {
   "cell_type": "markdown",
   "metadata": {},
   "source": [
    "## Nested Functions\n",
    "__Defining a function inside a function__"
   ]
  },
  {
   "cell_type": "code",
   "execution_count": 43,
   "metadata": {},
   "outputs": [
    {
     "data": {
      "text/plain": [
       "<function __main__.func.<locals>.func_inner()>"
      ]
     },
     "execution_count": 43,
     "metadata": {},
     "output_type": "execute_result"
    }
   ],
   "source": [
    "def func(passed_text):\n",
    "    message = passed_text\n",
    "    \n",
    "    def func_inner(): #Inner function/nested function: declared inside an another function.\n",
    "        return message\n",
    "    \n",
    "    return func_inner #func returns it's inner function\n",
    "\n",
    "func(\"hello\")\n",
    "\n",
    "#Above message variable is the non local variable for the func_inner \n",
    "#i.e. inner function can access message variable defined the function names func(which is the enclosing function)."
   ]
  },
  {
   "cell_type": "markdown",
   "metadata": {},
   "source": [
    "## Closures"
   ]
  },
  {
   "cell_type": "markdown",
   "metadata": {},
   "source": [
    "It is a function object which still remembers it's values even when the assigned object is not in the memory.\n",
    "<br>\n",
    "for e.g."
   ]
  },
  {
   "cell_type": "code",
   "execution_count": 44,
   "metadata": {},
   "outputs": [
    {
     "data": {
      "text/plain": [
       "'This is my func, i called it!'"
      ]
     },
     "execution_count": 44,
     "metadata": {},
     "output_type": "execute_result"
    }
   ],
   "source": [
    "#In the above example, as func is returning a function\n",
    "#So, suppose we called and save it's result to a variable.\n",
    "\n",
    "my_func = func(\"This is my func, i called it!\")\n",
    "my_func()"
   ]
  },
  {
   "cell_type": "code",
   "execution_count": 45,
   "metadata": {},
   "outputs": [],
   "source": [
    "#Even if we delete the func from memory \n",
    "del func"
   ]
  },
  {
   "cell_type": "code",
   "execution_count": 37,
   "metadata": {},
   "outputs": [
    {
     "data": {
      "text/plain": [
       "'This is my func, i called it!'"
      ]
     },
     "execution_count": 37,
     "metadata": {},
     "output_type": "execute_result"
    }
   ],
   "source": [
    "#We are still able to access my_func\n",
    "my_func()"
   ]
  },
  {
   "cell_type": "markdown",
   "metadata": {},
   "source": [
    "## Decorators"
   ]
  },
  {
   "cell_type": "markdown",
   "metadata": {},
   "source": [
    "It is just an extension to a closure, it takes function as an argument and returns a another(modified) function. "
   ]
  },
  {
   "cell_type": "code",
   "execution_count": 73,
   "metadata": {},
   "outputs": [],
   "source": [
    "#Let's understand with an example\n",
    "\n",
    "#Suppose there is a function which returns only the name passed\n",
    "def func(name):\n",
    "    return name\n",
    "\n",
    "#We create an another function which will decorate that function to say(i.e append) hello to the name.\n",
    "def decorate_function(func):\n",
    "    \n",
    "    def wrapper(name):\n",
    "        return \"Hello \" + func(name)\n",
    "    \n",
    "    return wrapper\n",
    "\n",
    "decorated_function = decorate_function(func) #Now we have decorated the function"
   ]
  },
  {
   "cell_type": "code",
   "execution_count": 74,
   "metadata": {},
   "outputs": [
    {
     "data": {
      "text/plain": [
       "'Hello himanshu'"
      ]
     },
     "execution_count": 74,
     "metadata": {},
     "output_type": "execute_result"
    }
   ],
   "source": [
    "decorated_function(\"himanshu\")"
   ]
  },
  {
   "cell_type": "code",
   "execution_count": 75,
   "metadata": {},
   "outputs": [],
   "source": [
    "#Python also provide an easy syntax for doing this\n",
    "#i.e.  we can also do\n",
    "\n",
    "@decorate_function\n",
    "def func(name):\n",
    "    return name"
   ]
  },
  {
   "cell_type": "code",
   "execution_count": 77,
   "metadata": {},
   "outputs": [
    {
     "data": {
      "text/plain": [
       "'Hello Himanshu'"
      ]
     },
     "execution_count": 77,
     "metadata": {},
     "output_type": "execute_result"
    }
   ],
   "source": [
    "func(\"Himanshu\")"
   ]
  }
 ],
 "metadata": {
  "kernelspec": {
   "display_name": "Python 3",
   "language": "python",
   "name": "python3"
  },
  "language_info": {
   "codemirror_mode": {
    "name": "ipython",
    "version": 3
   },
   "file_extension": ".py",
   "mimetype": "text/x-python",
   "name": "python",
   "nbconvert_exporter": "python",
   "pygments_lexer": "ipython3",
   "version": "3.7.4"
  }
 },
 "nbformat": 4,
 "nbformat_minor": 2
}
