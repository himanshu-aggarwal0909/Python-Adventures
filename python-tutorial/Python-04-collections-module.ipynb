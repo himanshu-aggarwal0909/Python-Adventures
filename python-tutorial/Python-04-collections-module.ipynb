{
 "cells": [
  {
   "cell_type": "code",
   "execution_count": 1,
   "metadata": {},
   "outputs": [],
   "source": [
    "import collections"
   ]
  },
  {
   "cell_type": "markdown",
   "metadata": {},
   "source": [
    "![jhh tt](Collections_all_summary.PNG \"tt_all\")"
   ]
  },
  {
   "cell_type": "code",
   "execution_count": 4,
   "metadata": {},
   "outputs": [
    {
     "name": "stdout",
     "output_type": "stream",
     "text": [
      "['name', 'age', 'height']\n",
      "[['A', 'B', 'C', 'D'], [1, 2, 3, 4], [5, 6, 7, 8]]\n"
     ]
    }
   ],
   "source": [
    "dict_1 = {\"name\" : [\"A\", \"B\", \"C\", \"D\"], \"age\" : [1, 2, 3, 4]}\n",
    "dict_2 = {\"name\" : [\"E\", \"F\", \"G\", \"H\"], \"age\" : [5, 6, 7, 8], \"height\" : [5, 6, 7, 8]}\n",
    "\n",
    "combined = collections.ChainMap(dict_1, dict_2) #Encapsulates multiple dictionaries into one\n",
    "print(list(combined.keys()))\n",
    "print(list(combined.values())) #Ordering matters as mentioned here it will take the value for the object specified in the first object.\n"
   ]
  },
  {
   "cell_type": "code",
   "execution_count": 5,
   "metadata": {},
   "outputs": [
    {
     "name": "stdout",
     "output_type": "stream",
     "text": [
      "['A', 'B', 'C', 'D']\n",
      "[1, 2, 3, 4]\n",
      "[5, 6, 7, 8]\n"
     ]
    }
   ],
   "source": [
    "for each in collections.ChainMap(dict_1, dict_2):\n",
    "    print(collections.ChainMap(dict_1, dict_2)[each])"
   ]
  },
  {
   "cell_type": "code",
   "execution_count": null,
   "metadata": {},
   "outputs": [],
   "source": []
  }
 ],
 "metadata": {
  "kernelspec": {
   "display_name": "Python 3",
   "language": "python",
   "name": "python3"
  },
  "language_info": {
   "codemirror_mode": {
    "name": "ipython",
    "version": 3
   },
   "file_extension": ".py",
   "mimetype": "text/x-python",
   "name": "python",
   "nbconvert_exporter": "python",
   "pygments_lexer": "ipython3",
   "version": "3.7.4"
  }
 },
 "nbformat": 4,
 "nbformat_minor": 2
}
