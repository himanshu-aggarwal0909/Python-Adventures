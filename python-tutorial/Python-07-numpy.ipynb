{
 "cells": [
  {
   "cell_type": "markdown",
   "metadata": {},
   "source": [
    "# NumPy\n",
    "<pre>    <b>Numeric Python</b> </pre>"
   ]
  },
  {
   "cell_type": "markdown",
   "metadata": {},
   "source": [
    "It is a __python package__ that provides the power to handle the large number of operations <br>\n",
    " over a __large set of numerical (ndimensional)data in an memory efficient way and very fast__ <br>\n",
    "Which was earlier not very possible with noramal python's list."
   ]
  },
  {
   "cell_type": "markdown",
   "metadata": {},
   "source": [
    "## Advantages\n",
    "__(Showing were we right about memory efficient / fast execution time)?__\n",
    "\n",
    "### Memory Efficient"
   ]
  },
  {
   "cell_type": "code",
   "execution_count": 132,
   "metadata": {},
   "outputs": [
    {
     "name": "stdout",
     "output_type": "stream",
     "text": [
      "400096\n",
      "900088\n"
     ]
    }
   ],
   "source": [
    "import numpy as np #Standard convention used for importing the numpy package\n",
    "import sys\n",
    "\n",
    "np_array = np.array(range(100000))\n",
    "py_list = list(range(100000))\n",
    "\n",
    "\n",
    "print(sys.getsizeof(np_array)) #it calls __sizeof__ method to get size of the object in memory and ads garbage collector overhead also (if any)(in bytes).)\n",
    "print(py_list.__sizeof__()) "
   ]
  },
  {
   "cell_type": "markdown",
   "metadata": {},
   "source": [
    "As, it is evident that the numpy array for same range as of normal python list is occupying less than half the size of python list in memory.<br>"
   ]
  },
  {
   "cell_type": "markdown",
   "metadata": {},
   "source": [
    "### Fast Execution Time"
   ]
  },
  {
   "cell_type": "code",
   "execution_count": 133,
   "metadata": {},
   "outputs": [
    {
     "name": "stdout",
     "output_type": "stream",
     "text": [
      "Time Taken By Numpy :  0:00:00.001003\n",
      "Time Taken By PythonList :  0:00:00.013670\n"
     ]
    }
   ],
   "source": [
    "#Suppose we want to multiple by each element by 10\n",
    "from datetime import *\n",
    "start_time = datetime.now() #Capturing the start execution time\n",
    "rs_np_2 = np_array*10\n",
    "end_time = datetime.now()\n",
    "print(\"Time Taken By Numpy : \", (end_time - start_time))\n",
    "\n",
    "start_time = datetime.now()\n",
    "rs_py_list_2 = [each*10 for each in py_list]\n",
    "end_time = datetime.now()\n",
    "print(\"Time Taken By PythonList : \", (end_time - start_time))\n"
   ]
  },
  {
   "cell_type": "markdown",
   "metadata": {},
   "source": [
    "## Creating Arrays"
   ]
  },
  {
   "cell_type": "code",
   "execution_count": 199,
   "metadata": {},
   "outputs": [],
   "source": [
    "#Creating an array\n",
    "arr = np.array([[1,2,3], [3,4,5]]) "
   ]
  },
  {
   "cell_type": "code",
   "execution_count": 200,
   "metadata": {},
   "outputs": [
    {
     "data": {
      "text/plain": [
       "numpy.ndarray"
      ]
     },
     "execution_count": 200,
     "metadata": {},
     "output_type": "execute_result"
    }
   ],
   "source": [
    "type(arr) # it returns a ndarray object (i.e. ndimensional array)"
   ]
  },
  {
   "cell_type": "code",
   "execution_count": 214,
   "metadata": {},
   "outputs": [
    {
     "name": "stdout",
     "output_type": "stream",
     "text": [
      "1\n",
      "(4,)\n"
     ]
    }
   ],
   "source": [
    "#As arrays can be of any dimensional \n",
    "print(arr.ndim) # This will retur the dimension of the array\n",
    "print(arr.shape) # Returns the tuple with number of elemnets for each dimension (e.g. for 2-demsional (n,m) n-no of rows, m-no of columns)"
   ]
  },
  {
   "cell_type": "markdown",
   "metadata": {},
   "source": [
    "__np.reshape__<br>\n",
    "We can change the dimension of the array by passing the desired (shaping elements) in the tuple"
   ]
  },
  {
   "cell_type": "code",
   "execution_count": 218,
   "metadata": {},
   "outputs": [
    {
     "data": {
      "text/plain": [
       "array([[1, 2, 3],\n",
       "       [4, 5, 6]])"
      ]
     },
     "execution_count": 218,
     "metadata": {},
     "output_type": "execute_result"
    }
   ],
   "source": [
    "np.array([1,2,3,4,5,6]).reshape((2,3))"
   ]
  },
  {
   "cell_type": "markdown",
   "metadata": {},
   "source": [
    "### Built-ins np.zeros, np.ones, np.arange, np.linspace\n",
    "__NumPy has built-in functions for creating arrays__"
   ]
  },
  {
   "cell_type": "markdown",
   "metadata": {},
   "source": [
    "__np.zeros__"
   ]
  },
  {
   "cell_type": "code",
   "execution_count": 202,
   "metadata": {},
   "outputs": [
    {
     "data": {
      "text/plain": [
       "array([0., 0.])"
      ]
     },
     "execution_count": 202,
     "metadata": {},
     "output_type": "execute_result"
    }
   ],
   "source": [
    "np.zeros(2)  #Creates arrays of defined shape with all emlements as zeros"
   ]
  },
  {
   "cell_type": "markdown",
   "metadata": {},
   "source": [
    "__np.ones__"
   ]
  },
  {
   "cell_type": "code",
   "execution_count": 203,
   "metadata": {},
   "outputs": [
    {
     "name": "stdout",
     "output_type": "stream",
     "text": [
      "[1. 1.]\n",
      "[[1. 1.]\n",
      " [1. 1.]\n",
      " [1. 1.]]\n"
     ]
    }
   ],
   "source": [
    "print(np.ones(2))  #Creates arrays of defined shape with all emlements as ones\n",
    "print(np.ones((3,2)))  #Creating 2 dimensional array of ones"
   ]
  },
  {
   "cell_type": "markdown",
   "metadata": {},
   "source": [
    "__np.arange__"
   ]
  },
  {
   "cell_type": "code",
   "execution_count": 204,
   "metadata": {},
   "outputs": [],
   "source": [
    "# It is very much similar to python range function but this return a ndarray object.\n",
    "#Signature : np.arange(start, stop, step, dtype)"
   ]
  },
  {
   "cell_type": "code",
   "execution_count": 205,
   "metadata": {},
   "outputs": [
    {
     "name": "stdout",
     "output_type": "stream",
     "text": [
      "[10 12 14 16 18]\n"
     ]
    }
   ],
   "source": [
    "print(np.arange(10, 20, 2)) #Returning a array starting from 10 to 20 with each time increment of 2"
   ]
  },
  {
   "cell_type": "markdown",
   "metadata": {},
   "source": [
    "__np.linspace__<br>\n",
    "__Return evenly spaced numbers over a specified interval.__"
   ]
  },
  {
   "cell_type": "code",
   "execution_count": 206,
   "metadata": {},
   "outputs": [
    {
     "data": {
      "text/plain": [
       "array([ 1. ,  2.8,  4.6,  6.4,  8.2, 10. ])"
      ]
     },
     "execution_count": 206,
     "metadata": {},
     "output_type": "execute_result"
    }
   ],
   "source": [
    "# We will start from 1 to 10 and divide then into num-1 parts and returns num be evenly spaced numbers.\n",
    "np.linspace(1,10,num=6)"
   ]
  },
  {
   "cell_type": "markdown",
   "metadata": {},
   "source": [
    "## Indexing and Slicing"
   ]
  },
  {
   "cell_type": "markdown",
   "metadata": {},
   "source": [
    "__Indexing__"
   ]
  },
  {
   "cell_type": "code",
   "execution_count": 207,
   "metadata": {},
   "outputs": [],
   "source": [
    "arr = np.array([ 10, 20, 30, 40 ])"
   ]
  },
  {
   "cell_type": "markdown",
   "metadata": {},
   "source": [
    "Like python lists numpy ndarray is also indexed starting from 0.<br>\n",
    "Single elements can be accessed like"
   ]
  },
  {
   "cell_type": "code",
   "execution_count": 208,
   "metadata": {},
   "outputs": [
    {
     "name": "stdout",
     "output_type": "stream",
     "text": [
      "10\n"
     ]
    }
   ],
   "source": [
    "print(arr[0]) #Returns the first element of the array"
   ]
  },
  {
   "cell_type": "markdown",
   "metadata": {},
   "source": [
    "We can also access the the elements with negative index <br>\n",
    "It's special fetaure that provides it basically indexes its element from -1 starting from the end. <br>\n",
    "i.e.<br>\n",
    "<pre>                    [ 10, 20, 30, 40 ]<br>\n",
    "positive indexing :    0   1   2   3<br>\n",
    "negative indexing :   -4  -3  -2  -1<br></pre>"
   ]
  },
  {
   "cell_type": "code",
   "execution_count": 209,
   "metadata": {},
   "outputs": [
    {
     "name": "stdout",
     "output_type": "stream",
     "text": [
      "40\n"
     ]
    }
   ],
   "source": [
    "print(arr[-1]) # this will return the last element"
   ]
  },
  {
   "cell_type": "markdown",
   "metadata": {},
   "source": [
    "__Slicing__"
   ]
  },
  {
   "cell_type": "markdown",
   "metadata": {},
   "source": [
    "It is taking a way of taking subpart of the array, similar to slicing in python list.<br>\n",
    "\\[n:m\\]  This will return a subpart of the array startting from n to m-1"
   ]
  },
  {
   "cell_type": "code",
   "execution_count": 210,
   "metadata": {},
   "outputs": [
    {
     "data": {
      "text/plain": [
       "array([30, 40])"
      ]
     },
     "execution_count": 210,
     "metadata": {},
     "output_type": "execute_result"
    }
   ],
   "source": [
    "# arr declared above as [10, 20, 30, 40]\n",
    "#                        1, 2,  3,  4\n",
    "#                       -4  -3 -2   -1\n",
    "arr[2:4] # This will return elements starting from 2 to 3."
   ]
  },
  {
   "cell_type": "code",
   "execution_count": 211,
   "metadata": {},
   "outputs": [
    {
     "data": {
      "text/plain": [
       "array([30, 40])"
      ]
     },
     "execution_count": 211,
     "metadata": {},
     "output_type": "execute_result"
    }
   ],
   "source": [
    "# Similar, to this we can also make use of negative indexing\n",
    "arr[-2:] # When we do not specify m it is traversed till the end, and similarly, if we do not specified n it is started from the start"
   ]
  },
  {
   "cell_type": "code",
   "execution_count": 212,
   "metadata": {},
   "outputs": [
    {
     "data": {
      "text/plain": [
       "array([10, 30])"
      ]
     },
     "execution_count": 212,
     "metadata": {},
     "output_type": "execute_result"
    }
   ],
   "source": [
    "# We can also mention the step i.e. the index value that should be added at each step.\n",
    "# Syntax : arr[n:m:step] \n",
    "# for e.g. we want alternate numbers only\n",
    "\n",
    "arr[::2] # Observe, we do not specified n amd m this means the array will be traversed from start to end with step=2 each increent by 2."
   ]
  },
  {
   "cell_type": "code",
   "execution_count": 219,
   "metadata": {},
   "outputs": [
    {
     "data": {
      "text/plain": [
       "array([40, 30, 20, 10])"
      ]
     },
     "execution_count": 219,
     "metadata": {},
     "output_type": "execute_result"
    }
   ],
   "source": [
    "# We can traverse the array in reverse by using negative index\n",
    "arr[::-1] # End to Start Traverse"
   ]
  },
  {
   "cell_type": "markdown",
   "metadata": {},
   "source": [
    "## np.transpose"
   ]
  },
  {
   "cell_type": "code",
   "execution_count": 230,
   "metadata": {},
   "outputs": [
    {
     "data": {
      "text/plain": [
       "array([[1, 5],\n",
       "       [2, 6],\n",
       "       [3, 7],\n",
       "       [4, 8]])"
      ]
     },
     "execution_count": 230,
     "metadata": {},
     "output_type": "execute_result"
    }
   ],
   "source": [
    "# Transpose the given array (i.e. Changing the columns to rows)\n",
    "np.array([[1,2,3,4],[5,6,7,8]]).transpose()"
   ]
  },
  {
   "cell_type": "markdown",
   "metadata": {},
   "source": [
    "## np.flatten"
   ]
  },
  {
   "cell_type": "code",
   "execution_count": 232,
   "metadata": {},
   "outputs": [
    {
     "data": {
      "text/plain": [
       "array([ 1,  2,  3,  4,  5,  6,  7,  8,  9, 10, 11, 12])"
      ]
     },
     "execution_count": 232,
     "metadata": {},
     "output_type": "execute_result"
    }
   ],
   "source": [
    "# flatten the given array (i.e. Merging all rows into a single one)\n",
    "np.array([[1,2,3,4],[5,6,7,8],[9,10,11,12]]).flatten()"
   ]
  },
  {
   "cell_type": "markdown",
   "metadata": {},
   "source": [
    "## np.concatenate\n",
    "It concatenates two or more arrays together.<br>\n",
    "It takes an axis an parameter \\[axis = 0 (along the rows) axis = 1 (along the columns)\\] make sure that on the axis on which u concatenate both the array have same dimension for that axis."
   ]
  },
  {
   "cell_type": "code",
   "execution_count": 246,
   "metadata": {},
   "outputs": [
    {
     "data": {
      "text/plain": [
       "array([[ 1,  2,  3],\n",
       "       [-1, -2, -3],\n",
       "       [ 4,  5,  6],\n",
       "       [-4, -5, -6]])"
      ]
     },
     "execution_count": 246,
     "metadata": {},
     "output_type": "execute_result"
    }
   ],
   "source": [
    "np.concatenate((np.array([[1, 2, 3]]), np.array([[4, 5, 6]])), axis=0)"
   ]
  },
  {
   "cell_type": "markdown",
   "metadata": {},
   "source": [
    "## Mathematical Operations"
   ]
  },
  {
   "cell_type": "markdown",
   "metadata": {},
   "source": [
    "It performs element wise mathematical operations over two given np arrays."
   ]
  },
  {
   "cell_type": "code",
   "execution_count": 272,
   "metadata": {},
   "outputs": [
    {
     "name": "stdout",
     "output_type": "stream",
     "text": [
      "[5 7 9]\n",
      "[5 7 9]\n",
      "[-3 -3 -3]\n",
      "[-3 -3 -3]\n",
      "[ 4 10 18]\n",
      "[ 4 10 18]\n",
      "[0.25 0.4  0.5 ]\n",
      "[0.25 0.4  0.5 ]\n"
     ]
    }
   ],
   "source": [
    "#Let's consider we have two arrays of same shape\n",
    "#Please make sure that the array's must be of shape otherwise, it will throw an error because mathematic functions are performed element wise.\n",
    "\n",
    "arr1 = np.array([1, 2, 3])\n",
    "arr2 = np.array([4, 5, 6])\n",
    "\n",
    "#Addition\n",
    "print(np.add(arr1, arr2)) # This will perform element wise addition of two arrays.\n",
    "print(arr1 + arr2) # It also provides addition via operator overloading\n",
    "\n",
    "#Subtraction\n",
    "print(np.subtract(arr1, arr2)) # This will perform element wise subtraction of two arrays.\n",
    "print(arr1 - arr2) # It also provides subtraction via operator overloading\n",
    "\n",
    "#Multiplication\n",
    "print(np.multiply(arr1, arr2)) # This will perform element wise multiplication of two arrays.\n",
    "print(arr1 * arr2 ) # It also provides multiplication via operator overloading\n",
    "\n",
    "#Division\n",
    "print(np.divide(arr1, arr2)) # This will perform element wise division of two arrays.\n",
    "print(arr1 / arr2 ) # It also provides division via operator overloading"
   ]
  },
  {
   "cell_type": "markdown",
   "metadata": {},
   "source": [
    "## np.floor, np.ceil and np.rint"
   ]
  },
  {
   "cell_type": "code",
   "execution_count": 289,
   "metadata": {},
   "outputs": [
    {
     "name": "stdout",
     "output_type": "stream",
     "text": [
      "[1. 2. 3. 4. 5. 6.]\n",
      "[2. 3. 4. 5. 6. 7.]\n",
      "[1. 2. 3. 4. 6. 7.]\n"
     ]
    }
   ],
   "source": [
    "arr = np.array([1.2, 2.3, 3.4, 4.5, 5.6, 6.7])\n",
    "print(np.floor(arr, dtype=float)) # Applies the floor function to each element of the array.\n",
    "print(np.ceil(arr, dtype=float)) # Applies the ceil function to each element of the array.\n",
    "print(np.rint(arr)) #Round each element of the array to the nearest integer."
   ]
  },
  {
   "cell_type": "markdown",
   "metadata": {},
   "source": [
    "## np.sum"
   ]
  },
  {
   "cell_type": "code",
   "execution_count": 292,
   "metadata": {},
   "outputs": [
    {
     "name": "stdout",
     "output_type": "stream",
     "text": [
      "[5 7 9]\n",
      "[ 6 15]\n",
      "21\n"
     ]
    }
   ],
   "source": [
    "#Performs Sum of array elements over a given axis.\n",
    "arr = np.array([[1, 2, 3], [4, 5, 6]]) #Let's take an 2-dimensional array.\n",
    "print(np.sum(arr, axis = 0)) # as , we mentioned axis =0 so, this provide the sum along the columns.\n",
    "print(np.sum(arr, axis = 1)) # as , we mentioned axis =1 so, this provide the sum along the rows.\n",
    "print(np.sum(arr)) # When we don't mention any array by default it is axis =None and provide sum of all elements."
   ]
  },
  {
   "cell_type": "markdown",
   "metadata": {},
   "source": [
    "## np.prod"
   ]
  },
  {
   "cell_type": "code",
   "execution_count": 295,
   "metadata": {},
   "outputs": [
    {
     "name": "stdout",
     "output_type": "stream",
     "text": [
      "[ 4 10 18]\n",
      "[  6 120]\n",
      "720\n"
     ]
    }
   ],
   "source": [
    "#Performs product of array elements over a given axis.\n",
    "arr = np.array([[1, 2, 3], [4, 5, 6]]) #Let's take an 2-dimensional array.\n",
    "print(np.prod(arr, axis = 0)) # as , we mentioned axis =0 so, this provide the product along the columns.\n",
    "print(np.prod(arr, axis = 1)) # as , we mentioned axis =1 so, this provide the product along the rows.\n",
    "print(np.prod(arr)) # When we don't mention any array by default it is axis =None and provide product of all elements."
   ]
  },
  {
   "cell_type": "code",
   "execution_count": null,
   "metadata": {},
   "outputs": [],
   "source": [
    "np.vectorize"
   ]
  }
 ],
 "metadata": {
  "kernelspec": {
   "display_name": "Python 3",
   "language": "python",
   "name": "python3"
  },
  "language_info": {
   "codemirror_mode": {
    "name": "ipython",
    "version": 3
   },
   "file_extension": ".py",
   "mimetype": "text/x-python",
   "name": "python",
   "nbconvert_exporter": "python",
   "pygments_lexer": "ipython3",
   "version": "3.7.4"
  }
 },
 "nbformat": 4,
 "nbformat_minor": 2
}
